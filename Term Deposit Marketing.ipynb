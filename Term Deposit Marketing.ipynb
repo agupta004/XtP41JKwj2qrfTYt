{
 "cells": [
  {
   "cell_type": "markdown",
   "id": "d253b399",
   "metadata": {},
   "source": [
    "# Objective - To predict whether a customer will subscribe for a term deposit"
   ]
  },
  {
   "cell_type": "markdown",
   "id": "9e047847",
   "metadata": {},
   "source": [
    "Import relevant librares"
   ]
  },
  {
   "cell_type": "code",
   "execution_count": 80,
   "id": "e77365da",
   "metadata": {},
   "outputs": [],
   "source": [
    "import warnings\n",
    "import os\n",
    "import random\n",
    "import pandas as pd\n",
    "import numpy as np\n",
    "import shap\n",
    "import tensorflow\n",
    "from imblearn.over_sampling import RandomOverSampler, SMOTE\n",
    "from imblearn.under_sampling import RandomUnderSampler\n",
    "import seaborn as sns\n",
    "import lazypredict\n",
    "from lazypredict.Supervised import LazyClassifier\n",
    "import matplotlib.pyplot as plt\n",
    "import lightgbm\n",
    "from lightgbm.sklearn import LGBMClassifier\n",
    "from lightgbm.sklearn import LGBMRegressor\n",
    "import xgboost\n",
    "from xgboost.sklearn import XGBClassifier\n",
    "from xgboost.sklearn import XGBRegressor\n",
    "import sklearn\n",
    "from sklearn.preprocessing import StandardScaler\n",
    "from sklearn.model_selection import train_test_split, cross_val_score\n",
    "from sklearn.svm import SVC\n",
    "from sklearn.ensemble import RandomForestClassifier, StackingClassifier, VotingClassifier\n",
    "from sklearn.metrics import classification_report, r2_score, mean_squared_error\n",
    "from sklearn.linear_model import LogisticRegression, SGDClassifier, PassiveAggressiveClassifier\n",
    "from sklearn.cluster import KMeans\n",
    "from sklearn.decomposition import PCA\n",
    "warnings.filterwarnings('ignore')"
   ]
  },
  {
   "cell_type": "markdown",
   "id": "bad71068",
   "metadata": {},
   "source": [
    "Import data"
   ]
  },
  {
   "cell_type": "code",
   "execution_count": 2,
   "id": "3dadae79",
   "metadata": {},
   "outputs": [
    {
     "data": {
      "text/html": [
       "<div>\n",
       "<style scoped>\n",
       "    .dataframe tbody tr th:only-of-type {\n",
       "        vertical-align: middle;\n",
       "    }\n",
       "\n",
       "    .dataframe tbody tr th {\n",
       "        vertical-align: top;\n",
       "    }\n",
       "\n",
       "    .dataframe thead th {\n",
       "        text-align: right;\n",
       "    }\n",
       "</style>\n",
       "<table border=\"1\" class=\"dataframe\">\n",
       "  <thead>\n",
       "    <tr style=\"text-align: right;\">\n",
       "      <th></th>\n",
       "      <th>age</th>\n",
       "      <th>job</th>\n",
       "      <th>marital</th>\n",
       "      <th>education</th>\n",
       "      <th>default</th>\n",
       "      <th>balance</th>\n",
       "      <th>housing</th>\n",
       "      <th>loan</th>\n",
       "      <th>contact</th>\n",
       "      <th>day</th>\n",
       "      <th>month</th>\n",
       "      <th>duration</th>\n",
       "      <th>campaign</th>\n",
       "      <th>y</th>\n",
       "    </tr>\n",
       "  </thead>\n",
       "  <tbody>\n",
       "    <tr>\n",
       "      <th>0</th>\n",
       "      <td>58</td>\n",
       "      <td>management</td>\n",
       "      <td>married</td>\n",
       "      <td>tertiary</td>\n",
       "      <td>no</td>\n",
       "      <td>2143</td>\n",
       "      <td>yes</td>\n",
       "      <td>no</td>\n",
       "      <td>unknown</td>\n",
       "      <td>5</td>\n",
       "      <td>may</td>\n",
       "      <td>261</td>\n",
       "      <td>1</td>\n",
       "      <td>no</td>\n",
       "    </tr>\n",
       "    <tr>\n",
       "      <th>1</th>\n",
       "      <td>44</td>\n",
       "      <td>technician</td>\n",
       "      <td>single</td>\n",
       "      <td>secondary</td>\n",
       "      <td>no</td>\n",
       "      <td>29</td>\n",
       "      <td>yes</td>\n",
       "      <td>no</td>\n",
       "      <td>unknown</td>\n",
       "      <td>5</td>\n",
       "      <td>may</td>\n",
       "      <td>151</td>\n",
       "      <td>1</td>\n",
       "      <td>no</td>\n",
       "    </tr>\n",
       "    <tr>\n",
       "      <th>2</th>\n",
       "      <td>33</td>\n",
       "      <td>entrepreneur</td>\n",
       "      <td>married</td>\n",
       "      <td>secondary</td>\n",
       "      <td>no</td>\n",
       "      <td>2</td>\n",
       "      <td>yes</td>\n",
       "      <td>yes</td>\n",
       "      <td>unknown</td>\n",
       "      <td>5</td>\n",
       "      <td>may</td>\n",
       "      <td>76</td>\n",
       "      <td>1</td>\n",
       "      <td>no</td>\n",
       "    </tr>\n",
       "    <tr>\n",
       "      <th>3</th>\n",
       "      <td>47</td>\n",
       "      <td>blue-collar</td>\n",
       "      <td>married</td>\n",
       "      <td>unknown</td>\n",
       "      <td>no</td>\n",
       "      <td>1506</td>\n",
       "      <td>yes</td>\n",
       "      <td>no</td>\n",
       "      <td>unknown</td>\n",
       "      <td>5</td>\n",
       "      <td>may</td>\n",
       "      <td>92</td>\n",
       "      <td>1</td>\n",
       "      <td>no</td>\n",
       "    </tr>\n",
       "    <tr>\n",
       "      <th>4</th>\n",
       "      <td>33</td>\n",
       "      <td>unknown</td>\n",
       "      <td>single</td>\n",
       "      <td>unknown</td>\n",
       "      <td>no</td>\n",
       "      <td>1</td>\n",
       "      <td>no</td>\n",
       "      <td>no</td>\n",
       "      <td>unknown</td>\n",
       "      <td>5</td>\n",
       "      <td>may</td>\n",
       "      <td>198</td>\n",
       "      <td>1</td>\n",
       "      <td>no</td>\n",
       "    </tr>\n",
       "  </tbody>\n",
       "</table>\n",
       "</div>"
      ],
      "text/plain": [
       "   age           job  marital  education default  balance housing loan  \\\n",
       "0   58    management  married   tertiary      no     2143     yes   no   \n",
       "1   44    technician   single  secondary      no       29     yes   no   \n",
       "2   33  entrepreneur  married  secondary      no        2     yes  yes   \n",
       "3   47   blue-collar  married    unknown      no     1506     yes   no   \n",
       "4   33       unknown   single    unknown      no        1      no   no   \n",
       "\n",
       "   contact  day month  duration  campaign   y  \n",
       "0  unknown    5   may       261         1  no  \n",
       "1  unknown    5   may       151         1  no  \n",
       "2  unknown    5   may        76         1  no  \n",
       "3  unknown    5   may        92         1  no  \n",
       "4  unknown    5   may       198         1  no  "
      ]
     },
     "execution_count": 2,
     "metadata": {},
     "output_type": "execute_result"
    }
   ],
   "source": [
    "os.chdir('F:\\Blue Sky\\EVERYTHING\\DATA SCIENCE\\Apziva\\Term Deposit Marketing')\n",
    "tdm = pd.read_csv('term-deposit-marketing-2020.csv')\n",
    "tdm.head()"
   ]
  },
  {
   "cell_type": "markdown",
   "id": "54fc48d7",
   "metadata": {},
   "source": [
    "## Exploratory Data Analysis"
   ]
  },
  {
   "cell_type": "code",
   "execution_count": 3,
   "id": "9c07a1e5",
   "metadata": {},
   "outputs": [
    {
     "name": "stdout",
     "output_type": "stream",
     "text": [
      "<class 'pandas.core.frame.DataFrame'>\n",
      "RangeIndex: 40000 entries, 0 to 39999\n",
      "Data columns (total 14 columns):\n",
      " #   Column     Non-Null Count  Dtype \n",
      "---  ------     --------------  ----- \n",
      " 0   age        40000 non-null  int64 \n",
      " 1   job        40000 non-null  object\n",
      " 2   marital    40000 non-null  object\n",
      " 3   education  40000 non-null  object\n",
      " 4   default    40000 non-null  object\n",
      " 5   balance    40000 non-null  int64 \n",
      " 6   housing    40000 non-null  object\n",
      " 7   loan       40000 non-null  object\n",
      " 8   contact    40000 non-null  object\n",
      " 9   day        40000 non-null  int64 \n",
      " 10  month      40000 non-null  object\n",
      " 11  duration   40000 non-null  int64 \n",
      " 12  campaign   40000 non-null  int64 \n",
      " 13  y          40000 non-null  object\n",
      "dtypes: int64(5), object(9)\n",
      "memory usage: 4.3+ MB\n"
     ]
    }
   ],
   "source": [
    "tdm.info()"
   ]
  },
  {
   "cell_type": "markdown",
   "id": "cd4a3e18",
   "metadata": {},
   "source": [
    "Total rows are 40,000. There are no missing values and hence imputation is not requires"
   ]
  },
  {
   "cell_type": "code",
   "execution_count": 4,
   "id": "c32a856e",
   "metadata": {},
   "outputs": [
    {
     "data": {
      "text/html": [
       "<div>\n",
       "<style scoped>\n",
       "    .dataframe tbody tr th:only-of-type {\n",
       "        vertical-align: middle;\n",
       "    }\n",
       "\n",
       "    .dataframe tbody tr th {\n",
       "        vertical-align: top;\n",
       "    }\n",
       "\n",
       "    .dataframe thead th {\n",
       "        text-align: right;\n",
       "    }\n",
       "</style>\n",
       "<table border=\"1\" class=\"dataframe\">\n",
       "  <thead>\n",
       "    <tr style=\"text-align: right;\">\n",
       "      <th></th>\n",
       "      <th>age</th>\n",
       "      <th>job</th>\n",
       "      <th>marital</th>\n",
       "      <th>education</th>\n",
       "      <th>default</th>\n",
       "      <th>balance</th>\n",
       "      <th>housing</th>\n",
       "      <th>loan</th>\n",
       "      <th>contact</th>\n",
       "      <th>day</th>\n",
       "      <th>month</th>\n",
       "      <th>duration</th>\n",
       "      <th>campaign</th>\n",
       "      <th>y</th>\n",
       "    </tr>\n",
       "  </thead>\n",
       "  <tbody>\n",
       "    <tr>\n",
       "      <th>count</th>\n",
       "      <td>40000.00</td>\n",
       "      <td>40000</td>\n",
       "      <td>40000</td>\n",
       "      <td>40000</td>\n",
       "      <td>40000</td>\n",
       "      <td>40000.00</td>\n",
       "      <td>40000</td>\n",
       "      <td>40000</td>\n",
       "      <td>40000</td>\n",
       "      <td>40000.00</td>\n",
       "      <td>40000</td>\n",
       "      <td>40000.00</td>\n",
       "      <td>40000.00</td>\n",
       "      <td>40000</td>\n",
       "    </tr>\n",
       "    <tr>\n",
       "      <th>unique</th>\n",
       "      <td>nan</td>\n",
       "      <td>12</td>\n",
       "      <td>3</td>\n",
       "      <td>4</td>\n",
       "      <td>2</td>\n",
       "      <td>nan</td>\n",
       "      <td>2</td>\n",
       "      <td>2</td>\n",
       "      <td>3</td>\n",
       "      <td>nan</td>\n",
       "      <td>11</td>\n",
       "      <td>nan</td>\n",
       "      <td>nan</td>\n",
       "      <td>2</td>\n",
       "    </tr>\n",
       "    <tr>\n",
       "      <th>top</th>\n",
       "      <td>nan</td>\n",
       "      <td>blue-collar</td>\n",
       "      <td>married</td>\n",
       "      <td>secondary</td>\n",
       "      <td>no</td>\n",
       "      <td>nan</td>\n",
       "      <td>yes</td>\n",
       "      <td>no</td>\n",
       "      <td>cellular</td>\n",
       "      <td>nan</td>\n",
       "      <td>may</td>\n",
       "      <td>nan</td>\n",
       "      <td>nan</td>\n",
       "      <td>no</td>\n",
       "    </tr>\n",
       "    <tr>\n",
       "      <th>freq</th>\n",
       "      <td>nan</td>\n",
       "      <td>9383</td>\n",
       "      <td>24386</td>\n",
       "      <td>20993</td>\n",
       "      <td>39191</td>\n",
       "      <td>nan</td>\n",
       "      <td>24031</td>\n",
       "      <td>33070</td>\n",
       "      <td>24914</td>\n",
       "      <td>nan</td>\n",
       "      <td>13532</td>\n",
       "      <td>nan</td>\n",
       "      <td>nan</td>\n",
       "      <td>37104</td>\n",
       "    </tr>\n",
       "    <tr>\n",
       "      <th>mean</th>\n",
       "      <td>40.54</td>\n",
       "      <td>NaN</td>\n",
       "      <td>NaN</td>\n",
       "      <td>NaN</td>\n",
       "      <td>NaN</td>\n",
       "      <td>1274.28</td>\n",
       "      <td>NaN</td>\n",
       "      <td>NaN</td>\n",
       "      <td>NaN</td>\n",
       "      <td>16.02</td>\n",
       "      <td>NaN</td>\n",
       "      <td>254.82</td>\n",
       "      <td>2.88</td>\n",
       "      <td>NaN</td>\n",
       "    </tr>\n",
       "    <tr>\n",
       "      <th>std</th>\n",
       "      <td>9.64</td>\n",
       "      <td>NaN</td>\n",
       "      <td>NaN</td>\n",
       "      <td>NaN</td>\n",
       "      <td>NaN</td>\n",
       "      <td>2903.77</td>\n",
       "      <td>NaN</td>\n",
       "      <td>NaN</td>\n",
       "      <td>NaN</td>\n",
       "      <td>8.28</td>\n",
       "      <td>NaN</td>\n",
       "      <td>259.37</td>\n",
       "      <td>3.24</td>\n",
       "      <td>NaN</td>\n",
       "    </tr>\n",
       "    <tr>\n",
       "      <th>min</th>\n",
       "      <td>19.00</td>\n",
       "      <td>NaN</td>\n",
       "      <td>NaN</td>\n",
       "      <td>NaN</td>\n",
       "      <td>NaN</td>\n",
       "      <td>-8019.00</td>\n",
       "      <td>NaN</td>\n",
       "      <td>NaN</td>\n",
       "      <td>NaN</td>\n",
       "      <td>1.00</td>\n",
       "      <td>NaN</td>\n",
       "      <td>0.00</td>\n",
       "      <td>1.00</td>\n",
       "      <td>NaN</td>\n",
       "    </tr>\n",
       "    <tr>\n",
       "      <th>25%</th>\n",
       "      <td>33.00</td>\n",
       "      <td>NaN</td>\n",
       "      <td>NaN</td>\n",
       "      <td>NaN</td>\n",
       "      <td>NaN</td>\n",
       "      <td>54.00</td>\n",
       "      <td>NaN</td>\n",
       "      <td>NaN</td>\n",
       "      <td>NaN</td>\n",
       "      <td>8.00</td>\n",
       "      <td>NaN</td>\n",
       "      <td>100.00</td>\n",
       "      <td>1.00</td>\n",
       "      <td>NaN</td>\n",
       "    </tr>\n",
       "    <tr>\n",
       "      <th>50%</th>\n",
       "      <td>39.00</td>\n",
       "      <td>NaN</td>\n",
       "      <td>NaN</td>\n",
       "      <td>NaN</td>\n",
       "      <td>NaN</td>\n",
       "      <td>407.00</td>\n",
       "      <td>NaN</td>\n",
       "      <td>NaN</td>\n",
       "      <td>NaN</td>\n",
       "      <td>17.00</td>\n",
       "      <td>NaN</td>\n",
       "      <td>175.00</td>\n",
       "      <td>2.00</td>\n",
       "      <td>NaN</td>\n",
       "    </tr>\n",
       "    <tr>\n",
       "      <th>75%</th>\n",
       "      <td>48.00</td>\n",
       "      <td>NaN</td>\n",
       "      <td>NaN</td>\n",
       "      <td>NaN</td>\n",
       "      <td>NaN</td>\n",
       "      <td>1319.00</td>\n",
       "      <td>NaN</td>\n",
       "      <td>NaN</td>\n",
       "      <td>NaN</td>\n",
       "      <td>21.00</td>\n",
       "      <td>NaN</td>\n",
       "      <td>313.00</td>\n",
       "      <td>3.00</td>\n",
       "      <td>NaN</td>\n",
       "    </tr>\n",
       "    <tr>\n",
       "      <th>max</th>\n",
       "      <td>95.00</td>\n",
       "      <td>NaN</td>\n",
       "      <td>NaN</td>\n",
       "      <td>NaN</td>\n",
       "      <td>NaN</td>\n",
       "      <td>102127.00</td>\n",
       "      <td>NaN</td>\n",
       "      <td>NaN</td>\n",
       "      <td>NaN</td>\n",
       "      <td>31.00</td>\n",
       "      <td>NaN</td>\n",
       "      <td>4918.00</td>\n",
       "      <td>63.00</td>\n",
       "      <td>NaN</td>\n",
       "    </tr>\n",
       "  </tbody>\n",
       "</table>\n",
       "</div>"
      ],
      "text/plain": [
       "            age          job  marital  education default   balance housing  \\\n",
       "count  40000.00        40000    40000      40000   40000  40000.00   40000   \n",
       "unique      nan           12        3          4       2       nan       2   \n",
       "top         nan  blue-collar  married  secondary      no       nan     yes   \n",
       "freq        nan         9383    24386      20993   39191       nan   24031   \n",
       "mean      40.54          NaN      NaN        NaN     NaN   1274.28     NaN   \n",
       "std        9.64          NaN      NaN        NaN     NaN   2903.77     NaN   \n",
       "min       19.00          NaN      NaN        NaN     NaN  -8019.00     NaN   \n",
       "25%       33.00          NaN      NaN        NaN     NaN     54.00     NaN   \n",
       "50%       39.00          NaN      NaN        NaN     NaN    407.00     NaN   \n",
       "75%       48.00          NaN      NaN        NaN     NaN   1319.00     NaN   \n",
       "max       95.00          NaN      NaN        NaN     NaN 102127.00     NaN   \n",
       "\n",
       "         loan   contact      day  month  duration  campaign      y  \n",
       "count   40000     40000 40000.00  40000  40000.00  40000.00  40000  \n",
       "unique      2         3      nan     11       nan       nan      2  \n",
       "top        no  cellular      nan    may       nan       nan     no  \n",
       "freq    33070     24914      nan  13532       nan       nan  37104  \n",
       "mean      NaN       NaN    16.02    NaN    254.82      2.88    NaN  \n",
       "std       NaN       NaN     8.28    NaN    259.37      3.24    NaN  \n",
       "min       NaN       NaN     1.00    NaN      0.00      1.00    NaN  \n",
       "25%       NaN       NaN     8.00    NaN    100.00      1.00    NaN  \n",
       "50%       NaN       NaN    17.00    NaN    175.00      2.00    NaN  \n",
       "75%       NaN       NaN    21.00    NaN    313.00      3.00    NaN  \n",
       "max       NaN       NaN    31.00    NaN   4918.00     63.00    NaN  "
      ]
     },
     "execution_count": 4,
     "metadata": {},
     "output_type": "execute_result"
    }
   ],
   "source": [
    "tdm.describe(include = 'all')"
   ]
  },
  {
   "cell_type": "markdown",
   "id": "0affd0e3",
   "metadata": {},
   "source": [
    "Convert categorical data into numeric using dummy variables"
   ]
  },
  {
   "cell_type": "code",
   "execution_count": 5,
   "id": "5e8f5b57",
   "metadata": {},
   "outputs": [],
   "source": [
    "tdm_job = pd.get_dummies(tdm['job'], prefix = 'job', prefix_sep = '_', drop_first = True)\n",
    "tdm_marital = pd.get_dummies(tdm['marital'], prefix = 'marital', prefix_sep = '_', drop_first = True)\n",
    "tdm_education = pd.get_dummies(tdm['education'], prefix = 'education', prefix_sep = '_', drop_first = True)\n",
    "tdm_default = pd.get_dummies(tdm['default'], prefix = 'default', prefix_sep = '_', drop_first = True)\n",
    "tdm_housing = pd.get_dummies(tdm['housing'], prefix = 'housing', prefix_sep = '_', drop_first = True)\n",
    "tdm_loan = pd.get_dummies(tdm['loan'], prefix = 'loan', prefix_sep = '_', drop_first = True)\n",
    "tdm_contact = pd.get_dummies(tdm['contact'], prefix = 'contact', prefix_sep = '_', drop_first = True)\n",
    "tdm_month = pd.get_dummies(tdm['month'], prefix = 'month', prefix_sep = '_', drop_first = True)\n",
    "tdm_y = pd.get_dummies(tdm['y'], prefix = 'y', prefix_sep = '_', drop_first = True)"
   ]
  },
  {
   "cell_type": "code",
   "execution_count": 6,
   "id": "8a930da6",
   "metadata": {},
   "outputs": [
    {
     "data": {
      "text/html": [
       "<div>\n",
       "<style scoped>\n",
       "    .dataframe tbody tr th:only-of-type {\n",
       "        vertical-align: middle;\n",
       "    }\n",
       "\n",
       "    .dataframe tbody tr th {\n",
       "        vertical-align: top;\n",
       "    }\n",
       "\n",
       "    .dataframe thead th {\n",
       "        text-align: right;\n",
       "    }\n",
       "</style>\n",
       "<table border=\"1\" class=\"dataframe\">\n",
       "  <thead>\n",
       "    <tr style=\"text-align: right;\">\n",
       "      <th></th>\n",
       "      <th>age</th>\n",
       "      <th>balance</th>\n",
       "      <th>day</th>\n",
       "      <th>duration</th>\n",
       "      <th>campaign</th>\n",
       "      <th>job_blue-collar</th>\n",
       "      <th>job_entrepreneur</th>\n",
       "      <th>job_housemaid</th>\n",
       "      <th>job_management</th>\n",
       "      <th>job_retired</th>\n",
       "      <th>...</th>\n",
       "      <th>month_dec</th>\n",
       "      <th>month_feb</th>\n",
       "      <th>month_jan</th>\n",
       "      <th>month_jul</th>\n",
       "      <th>month_jun</th>\n",
       "      <th>month_mar</th>\n",
       "      <th>month_may</th>\n",
       "      <th>month_nov</th>\n",
       "      <th>month_oct</th>\n",
       "      <th>y_yes</th>\n",
       "    </tr>\n",
       "  </thead>\n",
       "  <tbody>\n",
       "    <tr>\n",
       "      <th>0</th>\n",
       "      <td>58</td>\n",
       "      <td>2143</td>\n",
       "      <td>5</td>\n",
       "      <td>261</td>\n",
       "      <td>1</td>\n",
       "      <td>0</td>\n",
       "      <td>0</td>\n",
       "      <td>0</td>\n",
       "      <td>1</td>\n",
       "      <td>0</td>\n",
       "      <td>...</td>\n",
       "      <td>0</td>\n",
       "      <td>0</td>\n",
       "      <td>0</td>\n",
       "      <td>0</td>\n",
       "      <td>0</td>\n",
       "      <td>0</td>\n",
       "      <td>1</td>\n",
       "      <td>0</td>\n",
       "      <td>0</td>\n",
       "      <td>0</td>\n",
       "    </tr>\n",
       "    <tr>\n",
       "      <th>1</th>\n",
       "      <td>44</td>\n",
       "      <td>29</td>\n",
       "      <td>5</td>\n",
       "      <td>151</td>\n",
       "      <td>1</td>\n",
       "      <td>0</td>\n",
       "      <td>0</td>\n",
       "      <td>0</td>\n",
       "      <td>0</td>\n",
       "      <td>0</td>\n",
       "      <td>...</td>\n",
       "      <td>0</td>\n",
       "      <td>0</td>\n",
       "      <td>0</td>\n",
       "      <td>0</td>\n",
       "      <td>0</td>\n",
       "      <td>0</td>\n",
       "      <td>1</td>\n",
       "      <td>0</td>\n",
       "      <td>0</td>\n",
       "      <td>0</td>\n",
       "    </tr>\n",
       "    <tr>\n",
       "      <th>2</th>\n",
       "      <td>33</td>\n",
       "      <td>2</td>\n",
       "      <td>5</td>\n",
       "      <td>76</td>\n",
       "      <td>1</td>\n",
       "      <td>0</td>\n",
       "      <td>1</td>\n",
       "      <td>0</td>\n",
       "      <td>0</td>\n",
       "      <td>0</td>\n",
       "      <td>...</td>\n",
       "      <td>0</td>\n",
       "      <td>0</td>\n",
       "      <td>0</td>\n",
       "      <td>0</td>\n",
       "      <td>0</td>\n",
       "      <td>0</td>\n",
       "      <td>1</td>\n",
       "      <td>0</td>\n",
       "      <td>0</td>\n",
       "      <td>0</td>\n",
       "    </tr>\n",
       "    <tr>\n",
       "      <th>3</th>\n",
       "      <td>47</td>\n",
       "      <td>1506</td>\n",
       "      <td>5</td>\n",
       "      <td>92</td>\n",
       "      <td>1</td>\n",
       "      <td>1</td>\n",
       "      <td>0</td>\n",
       "      <td>0</td>\n",
       "      <td>0</td>\n",
       "      <td>0</td>\n",
       "      <td>...</td>\n",
       "      <td>0</td>\n",
       "      <td>0</td>\n",
       "      <td>0</td>\n",
       "      <td>0</td>\n",
       "      <td>0</td>\n",
       "      <td>0</td>\n",
       "      <td>1</td>\n",
       "      <td>0</td>\n",
       "      <td>0</td>\n",
       "      <td>0</td>\n",
       "    </tr>\n",
       "    <tr>\n",
       "      <th>4</th>\n",
       "      <td>33</td>\n",
       "      <td>1</td>\n",
       "      <td>5</td>\n",
       "      <td>198</td>\n",
       "      <td>1</td>\n",
       "      <td>0</td>\n",
       "      <td>0</td>\n",
       "      <td>0</td>\n",
       "      <td>0</td>\n",
       "      <td>0</td>\n",
       "      <td>...</td>\n",
       "      <td>0</td>\n",
       "      <td>0</td>\n",
       "      <td>0</td>\n",
       "      <td>0</td>\n",
       "      <td>0</td>\n",
       "      <td>0</td>\n",
       "      <td>1</td>\n",
       "      <td>0</td>\n",
       "      <td>0</td>\n",
       "      <td>0</td>\n",
       "    </tr>\n",
       "  </tbody>\n",
       "</table>\n",
       "<p>5 rows × 37 columns</p>\n",
       "</div>"
      ],
      "text/plain": [
       "   age  balance  day  duration  campaign  job_blue-collar  job_entrepreneur  \\\n",
       "0   58     2143    5       261         1                0                 0   \n",
       "1   44       29    5       151         1                0                 0   \n",
       "2   33        2    5        76         1                0                 1   \n",
       "3   47     1506    5        92         1                1                 0   \n",
       "4   33        1    5       198         1                0                 0   \n",
       "\n",
       "   job_housemaid  job_management  job_retired  ...  month_dec  month_feb  \\\n",
       "0              0               1            0  ...          0          0   \n",
       "1              0               0            0  ...          0          0   \n",
       "2              0               0            0  ...          0          0   \n",
       "3              0               0            0  ...          0          0   \n",
       "4              0               0            0  ...          0          0   \n",
       "\n",
       "   month_jan  month_jul  month_jun  month_mar  month_may  month_nov  \\\n",
       "0          0          0          0          0          1          0   \n",
       "1          0          0          0          0          1          0   \n",
       "2          0          0          0          0          1          0   \n",
       "3          0          0          0          0          1          0   \n",
       "4          0          0          0          0          1          0   \n",
       "\n",
       "   month_oct  y_yes  \n",
       "0          0      0  \n",
       "1          0      0  \n",
       "2          0      0  \n",
       "3          0      0  \n",
       "4          0      0  \n",
       "\n",
       "[5 rows x 37 columns]"
      ]
     },
     "execution_count": 6,
     "metadata": {},
     "output_type": "execute_result"
    }
   ],
   "source": [
    "# Concat original data frame and dummy columns\n",
    "tdm_dc = tdm.drop(columns = ['job', 'marital', 'education', 'default', 'housing', 'loan', 'contact', 'month', 'y'])\n",
    "tdm_dc = pd.concat([tdm_dc, tdm_job, tdm_marital, tdm_education, tdm_default, tdm_housing, tdm_loan, tdm_contact, tdm_month, tdm_y], axis = 1)\n",
    "tdm_dc.head()"
   ]
  },
  {
   "cell_type": "code",
   "execution_count": 7,
   "id": "10bf5ee2",
   "metadata": {},
   "outputs": [
    {
     "data": {
      "image/png": "[encoded data removed]",
      "text/plain": [
       "<Figure size 1296x1296 with 42 Axes>"
      ]
     },
     "metadata": {
      "needs_background": "light"
     },
     "output_type": "display_data"
    }
   ],
   "source": [
    "# Visualize numerical features using histogramsb\n",
    "tdm_dc.hist(figsize = (18,18), grid = False, xlabelsize=9, ylabelsize=9)\n",
    "plt.show()"
   ]
  },
  {
   "cell_type": "markdown",
   "id": "94738508",
   "metadata": {},
   "source": [
    "Here are some observations from the above graphs\n",
    "- The company targets young blue collar workers primarily having having low or negative balance. Usually blue collar people earn less income and that would explain the negative balance.\n",
    "- Most of the calls are in the summer months and peaking in May."
   ]
  },
  {
   "cell_type": "markdown",
   "id": "eaa7a27e",
   "metadata": {},
   "source": [
    "Check class balancing"
   ]
  },
  {
   "cell_type": "code",
   "execution_count": 8,
   "id": "83e31f8c",
   "metadata": {},
   "outputs": [
    {
     "data": {
      "text/plain": [
       "0    37104\n",
       "1     2896\n",
       "Name: y_yes, dtype: int64"
      ]
     },
     "execution_count": 8,
     "metadata": {},
     "output_type": "execute_result"
    }
   ],
   "source": [
    "tdm_dc['y_yes'].value_counts()"
   ]
  },
  {
   "cell_type": "markdown",
   "id": "c201bf5b",
   "metadata": {},
   "source": [
    "The class is heavily skewed towards 'no' which is not surprising. Only a fraction of people will generally subscribe to a term deposit. We'll need to balance our class to make our analysis robust."
   ]
  },
  {
   "cell_type": "markdown",
   "id": "beaaee94",
   "metadata": {},
   "source": [
    "Set seed for reproducability"
   ]
  },
  {
   "cell_type": "code",
   "execution_count": 9,
   "id": "1e409bc4",
   "metadata": {},
   "outputs": [],
   "source": [
    "seed_value = 42\n",
    "random.seed(seed_value)"
   ]
  },
  {
   "cell_type": "markdown",
   "id": "992c3f03",
   "metadata": {},
   "source": [
    "Make dataframes for X and y"
   ]
  },
  {
   "cell_type": "code",
   "execution_count": 10,
   "id": "339ae982",
   "metadata": {},
   "outputs": [],
   "source": [
    "X = tdm_dc.drop(columns = ['y_yes'])\n",
    "y = tdm_dc['y_yes']"
   ]
  },
  {
   "cell_type": "markdown",
   "id": "3ecd45ee",
   "metadata": {},
   "source": [
    "Split data for train and test"
   ]
  },
  {
   "cell_type": "code",
   "execution_count": 11,
   "id": "c9c21a2c",
   "metadata": {},
   "outputs": [],
   "source": [
    "X_train, X_test, y_train, y_test = train_test_split(X, y, test_size = 0.2, random_state = seed_value)"
   ]
  },
  {
   "cell_type": "code",
   "execution_count": 12,
   "id": "83f20c83",
   "metadata": {},
   "outputs": [
    {
     "name": "stdout",
     "output_type": "stream",
     "text": [
      "(32000, 36)\n",
      "(8000, 36)\n"
     ]
    }
   ],
   "source": [
    "# Check shape of train and test data\n",
    "print(X_train.shape)           \n",
    "print(X_test.shape)"
   ]
  },
  {
   "cell_type": "markdown",
   "id": "a9dca3c2",
   "metadata": {},
   "source": [
    "## Class balancing"
   ]
  },
  {
   "cell_type": "markdown",
   "id": "691cda09",
   "metadata": {},
   "source": [
    "We'll try different class balancing techniques like oversampling and undersampling. Oversampling will ensure that we don't lose out on majority of the valuable data which has class value as 'no'. We'll experiment with two types of oversampling methods: RandomOverSampler and SMOTE. SMOTE is a smarter way to oversample the imbalanced data."
   ]
  },
  {
   "cell_type": "markdown",
   "id": "d43f6147",
   "metadata": {},
   "source": [
    "### a. Oversampling - RandomOverSampler"
   ]
  },
  {
   "cell_type": "code",
   "execution_count": 13,
   "id": "df0f54ca",
   "metadata": {},
   "outputs": [],
   "source": [
    "ros = RandomOverSampler(random_state = seed_value)     # Create an instance of RandomOverSampler\n",
    "X_ros, y_ros = ros.fit_resample(X_train, y_train)      # Resample the training data"
   ]
  },
  {
   "cell_type": "code",
   "execution_count": 14,
   "id": "47e129c6",
   "metadata": {
    "scrolled": true
   },
   "outputs": [
    {
     "data": {
      "text/plain": [
       "1    29680\n",
       "0    29680\n",
       "Name: y_yes, dtype: int64"
      ]
     },
     "execution_count": 14,
     "metadata": {},
     "output_type": "execute_result"
    }
   ],
   "source": [
    "pd.value_counts(y_ros)                                 # Get counts after class balancing"
   ]
  },
  {
   "cell_type": "markdown",
   "id": "2c27f2ba",
   "metadata": {},
   "source": [
    "The class is now balanced as counts for both classes are same."
   ]
  },
  {
   "cell_type": "markdown",
   "id": "fbf940c2",
   "metadata": {},
   "source": [
    "Lets start with building models using Lazypredict to get an idea of how the models perform. It is an easy way to get F1 score for a large number of models."
   ]
  },
  {
   "cell_type": "code",
   "execution_count": 15,
   "id": "f39010b5",
   "metadata": {},
   "outputs": [],
   "source": [
    "# Get classifier list from lazypredict.Supervised.CLASSIFIERS. We removed LabelSpreading and LabelPropogation models \n",
    "# as they were consuming too much RAM.\n",
    "classifiers = [('AdaBoostClassifier', sklearn.ensemble._weight_boosting.AdaBoostClassifier),\n",
    " ('BaggingClassifier', sklearn.ensemble._bagging.BaggingClassifier),\n",
    " ('BernoulliNB', sklearn.naive_bayes.BernoulliNB),\n",
    " ('CalibratedClassifierCV', sklearn.calibration.CalibratedClassifierCV),\n",
    " ('CategoricalNB', sklearn.naive_bayes.CategoricalNB),\n",
    " ('DecisionTreeClassifier', sklearn.tree._classes.DecisionTreeClassifier),\n",
    " ('DummyClassifier', sklearn.dummy.DummyClassifier),\n",
    " ('ExtraTreeClassifier', sklearn.tree._classes.ExtraTreeClassifier),\n",
    " ('ExtraTreesClassifier', sklearn.ensemble._forest.ExtraTreesClassifier),\n",
    " ('GaussianNB', sklearn.naive_bayes.GaussianNB),\n",
    " ('KNeighborsClassifier',\n",
    "  sklearn.neighbors._classification.KNeighborsClassifier),\n",
    " ('LinearDiscriminantAnalysis',\n",
    "  sklearn.discriminant_analysis.LinearDiscriminantAnalysis),\n",
    " ('LinearSVC', sklearn.svm._classes.LinearSVC),\n",
    " ('LogisticRegression', sklearn.linear_model._logistic.LogisticRegression),\n",
    " ('NearestCentroid', sklearn.neighbors._nearest_centroid.NearestCentroid),\n",
    " ('NuSVC', sklearn.svm._classes.NuSVC),\n",
    " ('PassiveAggressiveClassifier',\n",
    "  sklearn.linear_model._passive_aggressive.PassiveAggressiveClassifier),\n",
    " ('Perceptron', sklearn.linear_model._perceptron.Perceptron),\n",
    " ('QuadraticDiscriminantAnalysis',\n",
    "  sklearn.discriminant_analysis.QuadraticDiscriminantAnalysis),\n",
    " ('RandomForestClassifier', sklearn.ensemble._forest.RandomForestClassifier),\n",
    " ('RidgeClassifier', sklearn.linear_model._ridge.RidgeClassifier),\n",
    " ('RidgeClassifierCV', sklearn.linear_model._ridge.RidgeClassifierCV),\n",
    " ('SGDClassifier', sklearn.linear_model._stochastic_gradient.SGDClassifier),\n",
    " ('SVC', sklearn.svm._classes.SVC),\n",
    " ('StackingClassifier', sklearn.ensemble._stacking.StackingClassifier),\n",
    " ('XGBClassifier', xgboost.sklearn.XGBClassifier),\n",
    " ('LGBMClassifier', lightgbm.sklearn.LGBMClassifier)]"
   ]
  },
  {
   "cell_type": "code",
   "execution_count": 16,
   "id": "4cc8be53",
   "metadata": {},
   "outputs": [],
   "source": [
    "# Assign new classifier list to lazypredict.Supervised.CLASSIFIERS\n",
    "lazypredict.Supervised.CLASSIFIERS = classifiers"
   ]
  },
  {
   "cell_type": "code",
   "execution_count": 17,
   "id": "cbbf09a5",
   "metadata": {
    "scrolled": true
   },
   "outputs": [
    {
     "name": "stderr",
     "output_type": "stream",
     "text": [
      "  4%|███                                                                                | 1/27 [00:05<02:27,  5.65s/it]"
     ]
    },
    {
     "name": "stdout",
     "output_type": "stream",
     "text": [
      "{'Model': 'AdaBoostClassifier', 'Accuracy': 0.875375, 'Balanced Accuracy': 0.8663942768199233, 'ROC AUC': 0.8663942768199233, 'F1 Score': 0.8977935964293196, 'Time taken': 5.653932332992554}\n"
     ]
    },
    {
     "name": "stderr",
     "output_type": "stream",
     "text": [
      "  7%|██████▏                                                                            | 2/27 [00:11<02:18,  5.55s/it]"
     ]
    },
    {
     "name": "stdout",
     "output_type": "stream",
     "text": [
      "{'Model': 'BaggingClassifier', 'Accuracy': 0.931625, 'Balanced Accuracy': 0.7141403256704981, 'ROC AUC': 0.714140325670498, 'F1 Score': 0.9294160743814535, 'Time taken': 5.415879726409912}\n"
     ]
    },
    {
     "name": "stderr",
     "output_type": "stream",
     "text": [
      " 11%|█████████▏                                                                         | 3/27 [00:11<01:18,  3.26s/it]"
     ]
    },
    {
     "name": "stdout",
     "output_type": "stream",
     "text": [
      "{'Model': 'BernoulliNB', 'Accuracy': 0.834375, 'Balanced Accuracy': 0.8394995210727969, 'ROC AUC': 0.839499521072797, 'F1 Score': 0.8687584231920917, 'Time taken': 0.5230364799499512}\n"
     ]
    },
    {
     "name": "stderr",
     "output_type": "stream",
     "text": [
      " 15%|████████████▎                                                                      | 4/27 [01:37<13:41, 35.70s/it]"
     ]
    },
    {
     "name": "stdout",
     "output_type": "stream",
     "text": [
      "{'Model': 'CalibratedClassifierCV', 'Accuracy': 0.871, 'Balanced Accuracy': 0.8720441211685823, 'ROC AUC': 0.8720441211685823, 'F1 Score': 0.8949476879554895, 'Time taken': 85.41352319717407}\n"
     ]
    },
    {
     "name": "stderr",
     "output_type": "stream",
     "text": [
      " 22%|██████████████████▍                                                                | 6/27 [01:38<05:23, 15.38s/it]"
     ]
    },
    {
     "name": "stdout",
     "output_type": "stream",
     "text": [
      "{'Model': 'DecisionTreeClassifier', 'Accuracy': 0.91825, 'Balanced Accuracy': 0.6701014727011494, 'ROC AUC': 0.6701014727011494, 'F1 Score': 0.9161686298675834, 'Time taken': 0.7887752056121826}\n"
     ]
    },
    {
     "name": "stderr",
     "output_type": "stream",
     "text": [
      " 26%|█████████████████████▌                                                             | 7/27 [01:38<03:28, 10.44s/it]"
     ]
    },
    {
     "name": "stdout",
     "output_type": "stream",
     "text": [
      "{'Model': 'DummyClassifier', 'Accuracy': 0.496, 'Balanced Accuracy': 0.5034497725095786, 'ROC AUC': 0.5034497725095786, 'F1 Score': 0.6083372494034699, 'Time taken': 0.2634124755859375}\n"
     ]
    },
    {
     "name": "stderr",
     "output_type": "stream",
     "text": [
      " 30%|████████████████████████▌                                                          | 8/27 [01:38<02:17,  7.22s/it]"
     ]
    },
    {
     "name": "stdout",
     "output_type": "stream",
     "text": [
      "{'Model': 'ExtraTreeClassifier', 'Accuracy': 0.906125, 'Balanced Accuracy': 0.6299389367816092, 'ROC AUC': 0.6299389367816093, 'F1 Score': 0.9042766709348545, 'Time taken': 0.3239121437072754}\n"
     ]
    },
    {
     "name": "stderr",
     "output_type": "stream",
     "text": [
      " 33%|███████████████████████████▋                                                       | 9/27 [01:48<02:24,  8.00s/it]"
     ]
    },
    {
     "name": "stdout",
     "output_type": "stream",
     "text": [
      "{'Model': 'ExtraTreesClassifier', 'Accuracy': 0.937375, 'Balanced Accuracy': 0.6315627993295019, 'ROC AUC': 0.6315627993295019, 'F1 Score': 0.9252266089328309, 'Time taken': 9.729934692382812}\n"
     ]
    },
    {
     "name": "stderr",
     "output_type": "stream",
     "text": [
      " 37%|██████████████████████████████▎                                                   | 10/27 [01:48<01:36,  5.65s/it]"
     ]
    },
    {
     "name": "stdout",
     "output_type": "stream",
     "text": [
      "{'Model': 'GaussianNB', 'Accuracy': 0.137875, 'Balanced Accuracy': 0.5314894636015326, 'ROC AUC': 0.5314894636015326, 'F1 Score': 0.1342567774462265, 'Time taken': 0.3698537349700928}\n"
     ]
    },
    {
     "name": "stderr",
     "output_type": "stream",
     "text": [
      " 41%|█████████████████████████████████▍                                                | 11/27 [03:03<07:10, 26.89s/it]"
     ]
    },
    {
     "name": "stdout",
     "output_type": "stream",
     "text": [
      "{'Model': 'KNeighborsClassifier', 'Accuracy': 0.891125, 'Balanced Accuracy': 0.7443651221264367, 'ROC AUC': 0.7443651221264367, 'F1 Score': 0.9031751047386654, 'Time taken': 75.06040406227112}\n"
     ]
    },
    {
     "name": "stderr",
     "output_type": "stream",
     "text": [
      " 44%|████████████████████████████████████▍                                             | 12/27 [03:04<04:45, 19.05s/it]"
     ]
    },
    {
     "name": "stdout",
     "output_type": "stream",
     "text": [
      "{'Model': 'LinearDiscriminantAnalysis', 'Accuracy': 0.882125, 'Balanced Accuracy': 0.860422653256705, 'ROC AUC': 0.860422653256705, 'F1 Score': 0.902272925284836, 'Time taken': 1.1093039512634277}\n"
     ]
    },
    {
     "name": "stderr",
     "output_type": "stream",
     "text": [
      " 48%|███████████████████████████████████████▍                                          | 13/27 [03:38<05:26, 23.29s/it]"
     ]
    },
    {
     "name": "stdout",
     "output_type": "stream",
     "text": [
      "{'Model': 'LinearSVC', 'Accuracy': 0.873375, 'Balanced Accuracy': 0.871722341954023, 'ROC AUC': 0.8717223419540229, 'F1 Score': 0.8965840245353274, 'Time taken': 33.06059956550598}\n"
     ]
    },
    {
     "name": "stderr",
     "output_type": "stream",
     "text": [
      " 52%|██████████████████████████████████████████▌                                       | 14/27 [03:38<03:35, 16.55s/it]"
     ]
    },
    {
     "name": "stdout",
     "output_type": "stream",
     "text": [
      "{'Model': 'LogisticRegression', 'Accuracy': 0.872, 'Balanced Accuracy': 0.8709815014367817, 'ROC AUC': 0.8709815014367815, 'F1 Score': 0.8956062194759948, 'Time taken': 0.9826481342315674}\n"
     ]
    },
    {
     "name": "stderr",
     "output_type": "stream",
     "text": [
      " 56%|█████████████████████████████████████████████▌                                    | 15/27 [03:39<02:20, 11.68s/it]"
     ]
    },
    {
     "name": "stdout",
     "output_type": "stream",
     "text": [
      "{'Model': 'NearestCentroid', 'Accuracy': 0.825875, 'Balanced Accuracy': 0.8012901101532567, 'ROC AUC': 0.8012901101532567, 'F1 Score': 0.8618273163440782, 'Time taken': 0.36299943923950195}\n"
     ]
    },
    {
     "name": "stderr",
     "output_type": "stream",
     "text": [
      " 59%|████████████████████████████████████████████████                                 | 16/27 [10:11<23:09, 126.33s/it]"
     ]
    },
    {
     "name": "stdout",
     "output_type": "stream",
     "text": [
      "{'Model': 'NuSVC', 'Accuracy': 0.87275, 'Balanced Accuracy': 0.8697841834291188, 'ROC AUC': 0.8697841834291188, 'F1 Score': 0.8960867930696307, 'Time taken': 392.59716415405273}\n"
     ]
    },
    {
     "name": "stderr",
     "output_type": "stream",
     "text": [
      " 63%|███████████████████████████████████████████████████▋                              | 17/27 [10:12<14:44, 88.49s/it]"
     ]
    },
    {
     "name": "stdout",
     "output_type": "stream",
     "text": [
      "{'Model': 'PassiveAggressiveClassifier', 'Accuracy': 0.814125, 'Balanced Accuracy': 0.7645324473180077, 'ROC AUC': 0.7645324473180077, 'F1 Score': 0.8527380567087142, 'Time taken': 0.48105525970458984}\n"
     ]
    },
    {
     "name": "stderr",
     "output_type": "stream",
     "text": [
      " 67%|██████████████████████████████████████████████████████▋                           | 18/27 [10:12<09:18, 62.01s/it]"
     ]
    },
    {
     "name": "stdout",
     "output_type": "stream",
     "text": [
      "{'Model': 'Perceptron', 'Accuracy': 0.8285, 'Balanced Accuracy': 0.8387362308429118, 'ROC AUC': 0.8387362308429119, 'F1 Score': 0.8647104337631889, 'Time taken': 0.35372066497802734}\n"
     ]
    },
    {
     "name": "stderr",
     "output_type": "stream",
     "text": [
      " 70%|█████████████████████████████████████████████████████████▋                        | 19/27 [10:13<05:48, 43.54s/it]"
     ]
    },
    {
     "name": "stdout",
     "output_type": "stream",
     "text": [
      "{'Model': 'QuadraticDiscriminantAnalysis', 'Accuracy': 0.075875, 'Balanced Accuracy': 0.5012871168582376, 'ROC AUC': 0.5012871168582375, 'F1 Score': 0.017656742639225512, 'Time taken': 0.5168085098266602}\n"
     ]
    },
    {
     "name": "stderr",
     "output_type": "stream",
     "text": [
      " 74%|████████████████████████████████████████████████████████████▋                     | 20/27 [10:22<03:51, 33.13s/it]"
     ]
    },
    {
     "name": "stdout",
     "output_type": "stream",
     "text": [
      "{'Model': 'RandomForestClassifier', 'Accuracy': 0.933625, 'Balanced Accuracy': 0.7032073156130269, 'ROC AUC': 0.7032073156130267, 'F1 Score': 0.9299983226893938, 'Time taken': 8.870417833328247}\n"
     ]
    },
    {
     "name": "stderr",
     "output_type": "stream",
     "text": [
      " 78%|███████████████████████████████████████████████████████████████▊                  | 21/27 [10:22<02:19, 23.31s/it]"
     ]
    },
    {
     "name": "stdout",
     "output_type": "stream",
     "text": [
      "{'Model': 'RidgeClassifier', 'Accuracy': 0.882125, 'Balanced Accuracy': 0.860422653256705, 'ROC AUC': 0.860422653256705, 'F1 Score': 0.902272925284836, 'Time taken': 0.41939520835876465}\n"
     ]
    },
    {
     "name": "stderr",
     "output_type": "stream",
     "text": [
      " 81%|██████████████████████████████████████████████████████████████████▊               | 22/27 [10:23<01:22, 16.50s/it]"
     ]
    },
    {
     "name": "stdout",
     "output_type": "stream",
     "text": [
      "{'Model': 'RidgeClassifierCV', 'Accuracy': 0.882125, 'Balanced Accuracy': 0.860422653256705, 'ROC AUC': 0.860422653256705, 'F1 Score': 0.902272925284836, 'Time taken': 0.6018354892730713}\n"
     ]
    },
    {
     "name": "stderr",
     "output_type": "stream",
     "text": [
      " 85%|█████████████████████████████████████████████████████████████████████▊            | 23/27 [10:24<00:47, 11.81s/it]"
     ]
    },
    {
     "name": "stdout",
     "output_type": "stream",
     "text": [
      "{'Model': 'SGDClassifier', 'Accuracy': 0.852875, 'Balanced Accuracy': 0.8654813218390804, 'ROC AUC': 0.8654813218390804, 'F1 Score': 0.8822243706346601, 'Time taken': 0.8816499710083008}\n"
     ]
    },
    {
     "name": "stderr",
     "output_type": "stream",
     "text": [
      " 89%|████████████████████████████████████████████████████████████████████████▉         | 24/27 [13:38<03:19, 66.54s/it]"
     ]
    },
    {
     "name": "stdout",
     "output_type": "stream",
     "text": [
      "{'Model': 'SVC', 'Accuracy': 0.88475, 'Balanced Accuracy': 0.8634383979885057, 'ROC AUC': 0.8634383979885056, 'F1 Score': 0.9042085975633192, 'Time taken': 194.1988170146942}\n"
     ]
    },
    {
     "name": "stderr",
     "output_type": "stream",
     "text": [
      " 96%|██████████████████████████████████████████████████████████████████████████████▉   | 26/27 [13:48<00:38, 38.25s/it]"
     ]
    },
    {
     "name": "stdout",
     "output_type": "stream",
     "text": [
      "{'Model': 'XGBClassifier', 'Accuracy': 0.90675, 'Balanced Accuracy': 0.8504699473180077, 'ROC AUC': 0.8504699473180077, 'F1 Score': 0.9192042065251823, 'Time taken': 10.494904279708862}\n"
     ]
    },
    {
     "name": "stderr",
     "output_type": "stream",
     "text": [
      "100%|██████████████████████████████████████████████████████████████████████████████████| 27/27 [13:50<00:00, 30.76s/it]"
     ]
    },
    {
     "name": "stdout",
     "output_type": "stream",
     "text": [
      "{'Model': 'LGBMClassifier', 'Accuracy': 0.88775, 'Balanced Accuracy': 0.8938802083333333, 'ROC AUC': 0.8938802083333333, 'F1 Score': 0.907349608401734, 'Time taken': 1.8665947914123535}\n"
     ]
    },
    {
     "name": "stderr",
     "output_type": "stream",
     "text": [
      "\n"
     ]
    }
   ],
   "source": [
    "lzy_o = LazyClassifier(verbose=1, ignore_warnings=True, custom_metric=None)      # Create an instance of LazyClassifier\n",
    "models_o, predictions_o = lzy_o.fit(X_ros, X_test, y_ros, y_test)                # Fit model with training data and make predictions"
   ]
  },
  {
   "cell_type": "code",
   "execution_count": 18,
   "id": "57b79cbc",
   "metadata": {},
   "outputs": [
    {
     "data": {
      "text/html": [
       "<div>\n",
       "<style scoped>\n",
       "    .dataframe tbody tr th:only-of-type {\n",
       "        vertical-align: middle;\n",
       "    }\n",
       "\n",
       "    .dataframe tbody tr th {\n",
       "        vertical-align: top;\n",
       "    }\n",
       "\n",
       "    .dataframe thead th {\n",
       "        text-align: right;\n",
       "    }\n",
       "</style>\n",
       "<table border=\"1\" class=\"dataframe\">\n",
       "  <thead>\n",
       "    <tr style=\"text-align: right;\">\n",
       "      <th></th>\n",
       "      <th>Accuracy</th>\n",
       "      <th>Balanced Accuracy</th>\n",
       "      <th>ROC AUC</th>\n",
       "      <th>F1 Score</th>\n",
       "      <th>Time Taken</th>\n",
       "    </tr>\n",
       "    <tr>\n",
       "      <th>Model</th>\n",
       "      <th></th>\n",
       "      <th></th>\n",
       "      <th></th>\n",
       "      <th></th>\n",
       "      <th></th>\n",
       "    </tr>\n",
       "  </thead>\n",
       "  <tbody>\n",
       "    <tr>\n",
       "      <th>LGBMClassifier</th>\n",
       "      <td>0.89</td>\n",
       "      <td>0.89</td>\n",
       "      <td>0.89</td>\n",
       "      <td>0.91</td>\n",
       "      <td>1.87</td>\n",
       "    </tr>\n",
       "    <tr>\n",
       "      <th>CalibratedClassifierCV</th>\n",
       "      <td>0.87</td>\n",
       "      <td>0.87</td>\n",
       "      <td>0.87</td>\n",
       "      <td>0.89</td>\n",
       "      <td>85.41</td>\n",
       "    </tr>\n",
       "    <tr>\n",
       "      <th>LinearSVC</th>\n",
       "      <td>0.87</td>\n",
       "      <td>0.87</td>\n",
       "      <td>0.87</td>\n",
       "      <td>0.90</td>\n",
       "      <td>33.06</td>\n",
       "    </tr>\n",
       "    <tr>\n",
       "      <th>LogisticRegression</th>\n",
       "      <td>0.87</td>\n",
       "      <td>0.87</td>\n",
       "      <td>0.87</td>\n",
       "      <td>0.90</td>\n",
       "      <td>0.98</td>\n",
       "    </tr>\n",
       "    <tr>\n",
       "      <th>NuSVC</th>\n",
       "      <td>0.87</td>\n",
       "      <td>0.87</td>\n",
       "      <td>0.87</td>\n",
       "      <td>0.90</td>\n",
       "      <td>392.60</td>\n",
       "    </tr>\n",
       "    <tr>\n",
       "      <th>AdaBoostClassifier</th>\n",
       "      <td>0.88</td>\n",
       "      <td>0.87</td>\n",
       "      <td>0.87</td>\n",
       "      <td>0.90</td>\n",
       "      <td>5.65</td>\n",
       "    </tr>\n",
       "    <tr>\n",
       "      <th>SGDClassifier</th>\n",
       "      <td>0.85</td>\n",
       "      <td>0.87</td>\n",
       "      <td>0.87</td>\n",
       "      <td>0.88</td>\n",
       "      <td>0.88</td>\n",
       "    </tr>\n",
       "    <tr>\n",
       "      <th>SVC</th>\n",
       "      <td>0.88</td>\n",
       "      <td>0.86</td>\n",
       "      <td>0.86</td>\n",
       "      <td>0.90</td>\n",
       "      <td>194.20</td>\n",
       "    </tr>\n",
       "    <tr>\n",
       "      <th>RidgeClassifier</th>\n",
       "      <td>0.88</td>\n",
       "      <td>0.86</td>\n",
       "      <td>0.86</td>\n",
       "      <td>0.90</td>\n",
       "      <td>0.42</td>\n",
       "    </tr>\n",
       "    <tr>\n",
       "      <th>LinearDiscriminantAnalysis</th>\n",
       "      <td>0.88</td>\n",
       "      <td>0.86</td>\n",
       "      <td>0.86</td>\n",
       "      <td>0.90</td>\n",
       "      <td>1.11</td>\n",
       "    </tr>\n",
       "    <tr>\n",
       "      <th>RidgeClassifierCV</th>\n",
       "      <td>0.88</td>\n",
       "      <td>0.86</td>\n",
       "      <td>0.86</td>\n",
       "      <td>0.90</td>\n",
       "      <td>0.60</td>\n",
       "    </tr>\n",
       "    <tr>\n",
       "      <th>XGBClassifier</th>\n",
       "      <td>0.91</td>\n",
       "      <td>0.85</td>\n",
       "      <td>0.85</td>\n",
       "      <td>0.92</td>\n",
       "      <td>10.49</td>\n",
       "    </tr>\n",
       "    <tr>\n",
       "      <th>BernoulliNB</th>\n",
       "      <td>0.83</td>\n",
       "      <td>0.84</td>\n",
       "      <td>0.84</td>\n",
       "      <td>0.87</td>\n",
       "      <td>0.52</td>\n",
       "    </tr>\n",
       "    <tr>\n",
       "      <th>Perceptron</th>\n",
       "      <td>0.83</td>\n",
       "      <td>0.84</td>\n",
       "      <td>0.84</td>\n",
       "      <td>0.86</td>\n",
       "      <td>0.35</td>\n",
       "    </tr>\n",
       "    <tr>\n",
       "      <th>NearestCentroid</th>\n",
       "      <td>0.83</td>\n",
       "      <td>0.80</td>\n",
       "      <td>0.80</td>\n",
       "      <td>0.86</td>\n",
       "      <td>0.36</td>\n",
       "    </tr>\n",
       "    <tr>\n",
       "      <th>PassiveAggressiveClassifier</th>\n",
       "      <td>0.81</td>\n",
       "      <td>0.76</td>\n",
       "      <td>0.76</td>\n",
       "      <td>0.85</td>\n",
       "      <td>0.48</td>\n",
       "    </tr>\n",
       "    <tr>\n",
       "      <th>KNeighborsClassifier</th>\n",
       "      <td>0.89</td>\n",
       "      <td>0.74</td>\n",
       "      <td>0.74</td>\n",
       "      <td>0.90</td>\n",
       "      <td>75.06</td>\n",
       "    </tr>\n",
       "    <tr>\n",
       "      <th>BaggingClassifier</th>\n",
       "      <td>0.93</td>\n",
       "      <td>0.71</td>\n",
       "      <td>0.71</td>\n",
       "      <td>0.93</td>\n",
       "      <td>5.42</td>\n",
       "    </tr>\n",
       "    <tr>\n",
       "      <th>RandomForestClassifier</th>\n",
       "      <td>0.93</td>\n",
       "      <td>0.70</td>\n",
       "      <td>0.70</td>\n",
       "      <td>0.93</td>\n",
       "      <td>8.87</td>\n",
       "    </tr>\n",
       "    <tr>\n",
       "      <th>DecisionTreeClassifier</th>\n",
       "      <td>0.92</td>\n",
       "      <td>0.67</td>\n",
       "      <td>0.67</td>\n",
       "      <td>0.92</td>\n",
       "      <td>0.79</td>\n",
       "    </tr>\n",
       "    <tr>\n",
       "      <th>ExtraTreesClassifier</th>\n",
       "      <td>0.94</td>\n",
       "      <td>0.63</td>\n",
       "      <td>0.63</td>\n",
       "      <td>0.93</td>\n",
       "      <td>9.73</td>\n",
       "    </tr>\n",
       "    <tr>\n",
       "      <th>ExtraTreeClassifier</th>\n",
       "      <td>0.91</td>\n",
       "      <td>0.63</td>\n",
       "      <td>0.63</td>\n",
       "      <td>0.90</td>\n",
       "      <td>0.32</td>\n",
       "    </tr>\n",
       "    <tr>\n",
       "      <th>GaussianNB</th>\n",
       "      <td>0.14</td>\n",
       "      <td>0.53</td>\n",
       "      <td>0.53</td>\n",
       "      <td>0.13</td>\n",
       "      <td>0.37</td>\n",
       "    </tr>\n",
       "    <tr>\n",
       "      <th>DummyClassifier</th>\n",
       "      <td>0.50</td>\n",
       "      <td>0.50</td>\n",
       "      <td>0.50</td>\n",
       "      <td>0.61</td>\n",
       "      <td>0.26</td>\n",
       "    </tr>\n",
       "    <tr>\n",
       "      <th>QuadraticDiscriminantAnalysis</th>\n",
       "      <td>0.08</td>\n",
       "      <td>0.50</td>\n",
       "      <td>0.50</td>\n",
       "      <td>0.02</td>\n",
       "      <td>0.52</td>\n",
       "    </tr>\n",
       "  </tbody>\n",
       "</table>\n",
       "</div>"
      ],
      "text/plain": [
       "                               Accuracy  Balanced Accuracy  ROC AUC  F1 Score  \\\n",
       "Model                                                                           \n",
       "LGBMClassifier                     0.89               0.89     0.89      0.91   \n",
       "CalibratedClassifierCV             0.87               0.87     0.87      0.89   \n",
       "LinearSVC                          0.87               0.87     0.87      0.90   \n",
       "LogisticRegression                 0.87               0.87     0.87      0.90   \n",
       "NuSVC                              0.87               0.87     0.87      0.90   \n",
       "AdaBoostClassifier                 0.88               0.87     0.87      0.90   \n",
       "SGDClassifier                      0.85               0.87     0.87      0.88   \n",
       "SVC                                0.88               0.86     0.86      0.90   \n",
       "RidgeClassifier                    0.88               0.86     0.86      0.90   \n",
       "LinearDiscriminantAnalysis         0.88               0.86     0.86      0.90   \n",
       "RidgeClassifierCV                  0.88               0.86     0.86      0.90   \n",
       "XGBClassifier                      0.91               0.85     0.85      0.92   \n",
       "BernoulliNB                        0.83               0.84     0.84      0.87   \n",
       "Perceptron                         0.83               0.84     0.84      0.86   \n",
       "NearestCentroid                    0.83               0.80     0.80      0.86   \n",
       "PassiveAggressiveClassifier        0.81               0.76     0.76      0.85   \n",
       "KNeighborsClassifier               0.89               0.74     0.74      0.90   \n",
       "BaggingClassifier                  0.93               0.71     0.71      0.93   \n",
       "RandomForestClassifier             0.93               0.70     0.70      0.93   \n",
       "DecisionTreeClassifier             0.92               0.67     0.67      0.92   \n",
       "ExtraTreesClassifier               0.94               0.63     0.63      0.93   \n",
       "ExtraTreeClassifier                0.91               0.63     0.63      0.90   \n",
       "GaussianNB                         0.14               0.53     0.53      0.13   \n",
       "DummyClassifier                    0.50               0.50     0.50      0.61   \n",
       "QuadraticDiscriminantAnalysis      0.08               0.50     0.50      0.02   \n",
       "\n",
       "                               Time Taken  \n",
       "Model                                      \n",
       "LGBMClassifier                       1.87  \n",
       "CalibratedClassifierCV              85.41  \n",
       "LinearSVC                           33.06  \n",
       "LogisticRegression                   0.98  \n",
       "NuSVC                              392.60  \n",
       "AdaBoostClassifier                   5.65  \n",
       "SGDClassifier                        0.88  \n",
       "SVC                                194.20  \n",
       "RidgeClassifier                      0.42  \n",
       "LinearDiscriminantAnalysis           1.11  \n",
       "RidgeClassifierCV                    0.60  \n",
       "XGBClassifier                       10.49  \n",
       "BernoulliNB                          0.52  \n",
       "Perceptron                           0.35  \n",
       "NearestCentroid                      0.36  \n",
       "PassiveAggressiveClassifier          0.48  \n",
       "KNeighborsClassifier                75.06  \n",
       "BaggingClassifier                    5.42  \n",
       "RandomForestClassifier               8.87  \n",
       "DecisionTreeClassifier               0.79  \n",
       "ExtraTreesClassifier                 9.73  \n",
       "ExtraTreeClassifier                  0.32  \n",
       "GaussianNB                           0.37  \n",
       "DummyClassifier                      0.26  \n",
       "QuadraticDiscriminantAnalysis        0.52  "
      ]
     },
     "execution_count": 18,
     "metadata": {},
     "output_type": "execute_result"
    }
   ],
   "source": [
    "models_o"
   ]
  },
  {
   "cell_type": "markdown",
   "id": "8a171b2e",
   "metadata": {},
   "source": [
    "### b. Oversampling - SMOTE"
   ]
  },
  {
   "cell_type": "code",
   "execution_count": 19,
   "id": "6083ab10",
   "metadata": {},
   "outputs": [],
   "source": [
    "smo = SMOTE(random_state = seed_value)                      # Create an instance of SMOTE\n",
    "X_smo, y_smo = smo.fit_resample(X_train, y_train)           # Resample the training data"
   ]
  },
  {
   "cell_type": "code",
   "execution_count": 20,
   "id": "18b6ab1d",
   "metadata": {},
   "outputs": [
    {
     "data": {
      "text/plain": [
       "1    29680\n",
       "0    29680\n",
       "Name: y_yes, dtype: int64"
      ]
     },
     "execution_count": 20,
     "metadata": {},
     "output_type": "execute_result"
    }
   ],
   "source": [
    "pd.value_counts(y_smo)                                      # Get counts after class balancing"
   ]
  },
  {
   "cell_type": "code",
   "execution_count": 21,
   "id": "7a8f4009",
   "metadata": {},
   "outputs": [
    {
     "name": "stderr",
     "output_type": "stream",
     "text": [
      "  4%|███                                                                                | 1/27 [00:03<01:39,  3.82s/it]"
     ]
    },
    {
     "name": "stdout",
     "output_type": "stream",
     "text": [
      "{'Model': 'AdaBoostClassifier', 'Accuracy': 0.91675, 'Balanced Accuracy': 0.7325490900383143, 'ROC AUC': 0.7325490900383141, 'F1 Score': 0.9200674930895457, 'Time taken': 3.8238563537597656}\n"
     ]
    },
    {
     "name": "stderr",
     "output_type": "stream",
     "text": [
      "  7%|██████▏                                                                            | 2/27 [00:08<01:46,  4.26s/it]"
     ]
    },
    {
     "name": "stdout",
     "output_type": "stream",
     "text": [
      "{'Model': 'BaggingClassifier', 'Accuracy': 0.925375, 'Balanced Accuracy': 0.7003636853448276, 'ROC AUC': 0.7003636853448275, 'F1 Score': 0.9237743505635494, 'Time taken': 4.557257413864136}\n"
     ]
    },
    {
     "name": "stderr",
     "output_type": "stream",
     "text": [
      " 11%|█████████▏                                                                         | 3/27 [00:08<00:58,  2.43s/it]"
     ]
    },
    {
     "name": "stdout",
     "output_type": "stream",
     "text": [
      "{'Model': 'BernoulliNB', 'Accuracy': 0.917625, 'Balanced Accuracy': 0.6673626077586207, 'ROC AUC': 0.6673626077586207, 'F1 Score': 0.9154906423749236, 'Time taken': 0.25110650062561035}\n"
     ]
    },
    {
     "name": "stderr",
     "output_type": "stream",
     "text": [
      " 19%|███████████████▎                                                                   | 5/27 [00:57<04:50, 13.19s/it]"
     ]
    },
    {
     "name": "stdout",
     "output_type": "stream",
     "text": [
      "{'Model': 'CalibratedClassifierCV', 'Accuracy': 0.926375, 'Balanced Accuracy': 0.6920947078544062, 'ROC AUC': 0.6920947078544061, 'F1 Score': 0.9237905942469424, 'Time taken': 48.2983980178833}\n"
     ]
    },
    {
     "name": "stderr",
     "output_type": "stream",
     "text": [
      " 26%|█████████████████████▌                                                             | 7/27 [00:58<02:01,  6.09s/it]"
     ]
    },
    {
     "name": "stdout",
     "output_type": "stream",
     "text": [
      "{'Model': 'DecisionTreeClassifier', 'Accuracy': 0.909125, 'Balanced Accuracy': 0.7100245450191571, 'ROC AUC': 0.7100245450191571, 'F1 Score': 0.9131869103955793, 'Time taken': 0.7427699565887451}\n",
      "{'Model': 'DummyClassifier', 'Accuracy': 0.496, 'Balanced Accuracy': 0.5034497725095786, 'ROC AUC': 0.5034497725095786, 'F1 Score': 0.6083372494034699, 'Time taken': 0.1921992301940918}\n"
     ]
    },
    {
     "name": "stderr",
     "output_type": "stream",
     "text": [
      " 30%|████████████████████████▌                                                          | 8/27 [00:58<01:20,  4.25s/it]"
     ]
    },
    {
     "name": "stdout",
     "output_type": "stream",
     "text": [
      "{'Model': 'ExtraTreeClassifier', 'Accuracy': 0.897, 'Balanced Accuracy': 0.676267660440613, 'ROC AUC': 0.6762676604406129, 'F1 Score': 0.9025329970812435, 'Time taken': 0.2740786075592041}\n"
     ]
    },
    {
     "name": "stderr",
     "output_type": "stream",
     "text": [
      " 33%|███████████████████████████▋                                                       | 9/27 [01:06<01:37,  5.39s/it]"
     ]
    },
    {
     "name": "stdout",
     "output_type": "stream",
     "text": [
      "{'Model': 'ExtraTreesClassifier', 'Accuracy': 0.929625, 'Balanced Accuracy': 0.6586147030651341, 'ROC AUC': 0.6586147030651341, 'F1 Score': 0.9229112631563812, 'Time taken': 7.910831928253174}\n"
     ]
    },
    {
     "name": "stderr",
     "output_type": "stream",
     "text": [
      " 37%|██████████████████████████████▎                                                   | 10/27 [01:06<01:04,  3.81s/it]"
     ]
    },
    {
     "name": "stdout",
     "output_type": "stream",
     "text": [
      "{'Model': 'GaussianNB', 'Accuracy': 0.599625, 'Balanced Accuracy': 0.5905097581417624, 'ROC AUC': 0.5905097581417625, 'F1 Score': 0.6953604702262187, 'Time taken': 0.26180148124694824}\n"
     ]
    },
    {
     "name": "stderr",
     "output_type": "stream",
     "text": [
      " 41%|█████████████████████████████████▍                                                | 11/27 [02:04<05:26, 20.40s/it]"
     ]
    },
    {
     "name": "stdout",
     "output_type": "stream",
     "text": [
      "{'Model': 'KNeighborsClassifier', 'Accuracy': 0.919, 'Balanced Accuracy': 0.6472850814176245, 'ROC AUC': 0.6472850814176245, 'F1 Score': 0.9144502121209916, 'Time taken': 58.01464223861694}\n"
     ]
    },
    {
     "name": "stderr",
     "output_type": "stream",
     "text": [
      " 44%|████████████████████████████████████▍                                             | 12/27 [02:05<03:36, 14.40s/it]"
     ]
    },
    {
     "name": "stdout",
     "output_type": "stream",
     "text": [
      "{'Model': 'LinearDiscriminantAnalysis', 'Accuracy': 0.9175, 'Balanced Accuracy': 0.6184521671455938, 'ROC AUC': 0.6184521671455939, 'F1 Score': 0.9102598102763545, 'Time taken': 0.6934077739715576}\n"
     ]
    },
    {
     "name": "stderr",
     "output_type": "stream",
     "text": [
      " 48%|███████████████████████████████████████▍                                          | 13/27 [02:19<03:19, 14.22s/it]"
     ]
    },
    {
     "name": "stdout",
     "output_type": "stream",
     "text": [
      "{'Model': 'LinearSVC', 'Accuracy': 0.92325, 'Balanced Accuracy': 0.7144321719348659, 'ROC AUC': 0.7144321719348659, 'F1 Score': 0.9233724445886587, 'Time taken': 13.803860425949097}\n"
     ]
    },
    {
     "name": "stderr",
     "output_type": "stream",
     "text": [
      " 52%|██████████████████████████████████████████▌                                       | 14/27 [02:19<02:10, 10.06s/it]"
     ]
    },
    {
     "name": "stdout",
     "output_type": "stream",
     "text": [
      "{'Model': 'LogisticRegression', 'Accuracy': 0.92375, 'Balanced Accuracy': 0.7187051005747127, 'ROC AUC': 0.7187051005747127, 'F1 Score': 0.9240524039430787, 'Time taken': 0.44660019874572754}\n"
     ]
    },
    {
     "name": "stderr",
     "output_type": "stream",
     "text": [
      " 56%|█████████████████████████████████████████████▌                                    | 15/27 [02:19<01:25,  7.10s/it]"
     ]
    },
    {
     "name": "stdout",
     "output_type": "stream",
     "text": [
      "{'Model': 'NearestCentroid', 'Accuracy': 0.913875, 'Balanced Accuracy': 0.678153436302682, 'ROC AUC': 0.678153436302682, 'F1 Score': 0.9139094478044366, 'Time taken': 0.2301192283630371}\n"
     ]
    },
    {
     "name": "stderr",
     "output_type": "stream",
     "text": [
      " 59%|████████████████████████████████████████████████                                 | 16/27 [08:47<22:17, 121.63s/it]"
     ]
    },
    {
     "name": "stdout",
     "output_type": "stream",
     "text": [
      "{'Model': 'NuSVC', 'Accuracy': 0.920375, 'Balanced Accuracy': 0.5455355004789272, 'ROC AUC': 0.5455355004789272, 'F1 Score': 0.9009409348842907, 'Time taken': 387.6055061817169}\n"
     ]
    },
    {
     "name": "stderr",
     "output_type": "stream",
     "text": [
      " 63%|███████████████████████████████████████████████████▋                              | 17/27 [08:47<14:11, 85.16s/it]"
     ]
    },
    {
     "name": "stdout",
     "output_type": "stream",
     "text": [
      "{'Model': 'PassiveAggressiveClassifier', 'Accuracy': 0.9035, 'Balanced Accuracy': 0.7278122006704981, 'ROC AUC': 0.727812200670498, 'F1 Score': 0.9105634913478836, 'Time taken': 0.3389303684234619}\n"
     ]
    },
    {
     "name": "stderr",
     "output_type": "stream",
     "text": [
      " 67%|██████████████████████████████████████████████████████▋                           | 18/27 [08:48<08:57, 59.70s/it]"
     ]
    },
    {
     "name": "stdout",
     "output_type": "stream",
     "text": [
      "{'Model': 'Perceptron', 'Accuracy': 0.8795, 'Balanced Accuracy': 0.6828529094827587, 'ROC AUC': 0.6828529094827586, 'F1 Score': 0.891655570312119, 'Time taken': 0.4242842197418213}\n"
     ]
    },
    {
     "name": "stderr",
     "output_type": "stream",
     "text": [
      " 70%|█████████████████████████████████████████████████████████▋                        | 19/27 [08:48<05:35, 41.91s/it]"
     ]
    },
    {
     "name": "stdout",
     "output_type": "stream",
     "text": [
      "{'Model': 'QuadraticDiscriminantAnalysis', 'Accuracy': 0.35725, 'Balanced Accuracy': 0.5391897150383143, 'ROC AUC': 0.5391897150383143, 'F1 Score': 0.46081851473189206, 'Time taken': 0.4842848777770996}\n"
     ]
    },
    {
     "name": "stderr",
     "output_type": "stream",
     "text": [
      " 74%|████████████████████████████████████████████████████████████▋                     | 20/27 [08:57<03:44, 32.14s/it]"
     ]
    },
    {
     "name": "stdout",
     "output_type": "stream",
     "text": [
      "{'Model': 'RandomForestClassifier', 'Accuracy': 0.9315, 'Balanced Accuracy': 0.7100694444444444, 'ROC AUC': 0.7100694444444444, 'F1 Score': 0.9289988532282678, 'Time taken': 9.346187114715576}\n"
     ]
    },
    {
     "name": "stderr",
     "output_type": "stream",
     "text": [
      " 78%|███████████████████████████████████████████████████████████████▊                  | 21/27 [08:58<02:15, 22.57s/it]"
     ]
    },
    {
     "name": "stdout",
     "output_type": "stream",
     "text": [
      "{'Model': 'RidgeClassifier', 'Accuracy': 0.9175, 'Balanced Accuracy': 0.6184521671455938, 'ROC AUC': 0.6184521671455939, 'F1 Score': 0.9102598102763545, 'Time taken': 0.28240227699279785}\n"
     ]
    },
    {
     "name": "stderr",
     "output_type": "stream",
     "text": [
      " 81%|██████████████████████████████████████████████████████████████████▊               | 22/27 [08:58<01:20, 16.00s/it]"
     ]
    },
    {
     "name": "stdout",
     "output_type": "stream",
     "text": [
      "{'Model': 'RidgeClassifierCV', 'Accuracy': 0.9175, 'Balanced Accuracy': 0.6184521671455938, 'ROC AUC': 0.6184521671455939, 'F1 Score': 0.9102598102763545, 'Time taken': 0.6681251525878906}\n"
     ]
    },
    {
     "name": "stderr",
     "output_type": "stream",
     "text": [
      " 85%|█████████████████████████████████████████████████████████████████████▊            | 23/27 [08:59<00:45, 11.36s/it]"
     ]
    },
    {
     "name": "stdout",
     "output_type": "stream",
     "text": [
      "{'Model': 'SGDClassifier', 'Accuracy': 0.921375, 'Balanced Accuracy': 0.7030127514367817, 'ROC AUC': 0.7030127514367817, 'F1 Score': 0.9211531864794911, 'Time taken': 0.528594970703125}\n"
     ]
    },
    {
     "name": "stderr",
     "output_type": "stream",
     "text": [
      " 89%|████████████████████████████████████████████████████████████████████████▉         | 24/27 [10:04<01:22, 27.54s/it]"
     ]
    },
    {
     "name": "stdout",
     "output_type": "stream",
     "text": [
      "{'Model': 'SVC', 'Accuracy': 0.932, 'Balanced Accuracy': 0.7159437859195402, 'ROC AUC': 0.7159437859195403, 'F1 Score': 0.929834658343361, 'Time taken': 65.29525399208069}\n"
     ]
    },
    {
     "name": "stderr",
     "output_type": "stream",
     "text": [
      " 96%|██████████████████████████████████████████████████████████████████████████████▉   | 26/27 [10:12<00:16, 16.72s/it]"
     ]
    },
    {
     "name": "stdout",
     "output_type": "stream",
     "text": [
      "{'Model': 'XGBClassifier', 'Accuracy': 0.926125, 'Balanced Accuracy': 0.7432052203065134, 'ROC AUC': 0.7432052203065134, 'F1 Score': 0.9275097240575755, 'Time taken': 8.210760116577148}\n"
     ]
    },
    {
     "name": "stderr",
     "output_type": "stream",
     "text": [
      "100%|██████████████████████████████████████████████████████████████████████████████████| 27/27 [10:14<00:00, 22.75s/it]"
     ]
    },
    {
     "name": "stdout",
     "output_type": "stream",
     "text": [
      "{'Model': 'LGBMClassifier', 'Accuracy': 0.935, 'Balanced Accuracy': 0.7816166786398467, 'ROC AUC': 0.7816166786398467, 'F1 Score': 0.9365235247465711, 'Time taken': 1.480285406112671}\n"
     ]
    },
    {
     "name": "stderr",
     "output_type": "stream",
     "text": [
      "\n"
     ]
    }
   ],
   "source": [
    "lzy_smo = LazyClassifier(verbose=1, ignore_warnings=True, custom_metric=None)      # Create an instance of LazyClassifier\n",
    "models_smo ,predictions_smo = lzy_smo.fit(X_smo, X_test, y_smo, y_test)            # Fit model with training data and make predictions"
   ]
  },
  {
   "cell_type": "code",
   "execution_count": 22,
   "id": "9087ef5a",
   "metadata": {},
   "outputs": [
    {
     "data": {
      "text/html": [
       "<div>\n",
       "<style scoped>\n",
       "    .dataframe tbody tr th:only-of-type {\n",
       "        vertical-align: middle;\n",
       "    }\n",
       "\n",
       "    .dataframe tbody tr th {\n",
       "        vertical-align: top;\n",
       "    }\n",
       "\n",
       "    .dataframe thead th {\n",
       "        text-align: right;\n",
       "    }\n",
       "</style>\n",
       "<table border=\"1\" class=\"dataframe\">\n",
       "  <thead>\n",
       "    <tr style=\"text-align: right;\">\n",
       "      <th></th>\n",
       "      <th>Accuracy</th>\n",
       "      <th>Balanced Accuracy</th>\n",
       "      <th>ROC AUC</th>\n",
       "      <th>F1 Score</th>\n",
       "      <th>Time Taken</th>\n",
       "    </tr>\n",
       "    <tr>\n",
       "      <th>Model</th>\n",
       "      <th></th>\n",
       "      <th></th>\n",
       "      <th></th>\n",
       "      <th></th>\n",
       "      <th></th>\n",
       "    </tr>\n",
       "  </thead>\n",
       "  <tbody>\n",
       "    <tr>\n",
       "      <th>LGBMClassifier</th>\n",
       "      <td>0.94</td>\n",
       "      <td>0.78</td>\n",
       "      <td>0.78</td>\n",
       "      <td>0.94</td>\n",
       "      <td>1.48</td>\n",
       "    </tr>\n",
       "    <tr>\n",
       "      <th>XGBClassifier</th>\n",
       "      <td>0.93</td>\n",
       "      <td>0.74</td>\n",
       "      <td>0.74</td>\n",
       "      <td>0.93</td>\n",
       "      <td>8.21</td>\n",
       "    </tr>\n",
       "    <tr>\n",
       "      <th>AdaBoostClassifier</th>\n",
       "      <td>0.92</td>\n",
       "      <td>0.73</td>\n",
       "      <td>0.73</td>\n",
       "      <td>0.92</td>\n",
       "      <td>3.82</td>\n",
       "    </tr>\n",
       "    <tr>\n",
       "      <th>PassiveAggressiveClassifier</th>\n",
       "      <td>0.90</td>\n",
       "      <td>0.73</td>\n",
       "      <td>0.73</td>\n",
       "      <td>0.91</td>\n",
       "      <td>0.34</td>\n",
       "    </tr>\n",
       "    <tr>\n",
       "      <th>LogisticRegression</th>\n",
       "      <td>0.92</td>\n",
       "      <td>0.72</td>\n",
       "      <td>0.72</td>\n",
       "      <td>0.92</td>\n",
       "      <td>0.45</td>\n",
       "    </tr>\n",
       "    <tr>\n",
       "      <th>SVC</th>\n",
       "      <td>0.93</td>\n",
       "      <td>0.72</td>\n",
       "      <td>0.72</td>\n",
       "      <td>0.93</td>\n",
       "      <td>65.30</td>\n",
       "    </tr>\n",
       "    <tr>\n",
       "      <th>LinearSVC</th>\n",
       "      <td>0.92</td>\n",
       "      <td>0.71</td>\n",
       "      <td>0.71</td>\n",
       "      <td>0.92</td>\n",
       "      <td>13.80</td>\n",
       "    </tr>\n",
       "    <tr>\n",
       "      <th>RandomForestClassifier</th>\n",
       "      <td>0.93</td>\n",
       "      <td>0.71</td>\n",
       "      <td>0.71</td>\n",
       "      <td>0.93</td>\n",
       "      <td>9.35</td>\n",
       "    </tr>\n",
       "    <tr>\n",
       "      <th>DecisionTreeClassifier</th>\n",
       "      <td>0.91</td>\n",
       "      <td>0.71</td>\n",
       "      <td>0.71</td>\n",
       "      <td>0.91</td>\n",
       "      <td>0.74</td>\n",
       "    </tr>\n",
       "    <tr>\n",
       "      <th>SGDClassifier</th>\n",
       "      <td>0.92</td>\n",
       "      <td>0.70</td>\n",
       "      <td>0.70</td>\n",
       "      <td>0.92</td>\n",
       "      <td>0.53</td>\n",
       "    </tr>\n",
       "    <tr>\n",
       "      <th>BaggingClassifier</th>\n",
       "      <td>0.93</td>\n",
       "      <td>0.70</td>\n",
       "      <td>0.70</td>\n",
       "      <td>0.92</td>\n",
       "      <td>4.56</td>\n",
       "    </tr>\n",
       "    <tr>\n",
       "      <th>CalibratedClassifierCV</th>\n",
       "      <td>0.93</td>\n",
       "      <td>0.69</td>\n",
       "      <td>0.69</td>\n",
       "      <td>0.92</td>\n",
       "      <td>48.30</td>\n",
       "    </tr>\n",
       "    <tr>\n",
       "      <th>Perceptron</th>\n",
       "      <td>0.88</td>\n",
       "      <td>0.68</td>\n",
       "      <td>0.68</td>\n",
       "      <td>0.89</td>\n",
       "      <td>0.42</td>\n",
       "    </tr>\n",
       "    <tr>\n",
       "      <th>NearestCentroid</th>\n",
       "      <td>0.91</td>\n",
       "      <td>0.68</td>\n",
       "      <td>0.68</td>\n",
       "      <td>0.91</td>\n",
       "      <td>0.23</td>\n",
       "    </tr>\n",
       "    <tr>\n",
       "      <th>ExtraTreeClassifier</th>\n",
       "      <td>0.90</td>\n",
       "      <td>0.68</td>\n",
       "      <td>0.68</td>\n",
       "      <td>0.90</td>\n",
       "      <td>0.27</td>\n",
       "    </tr>\n",
       "    <tr>\n",
       "      <th>BernoulliNB</th>\n",
       "      <td>0.92</td>\n",
       "      <td>0.67</td>\n",
       "      <td>0.67</td>\n",
       "      <td>0.92</td>\n",
       "      <td>0.25</td>\n",
       "    </tr>\n",
       "    <tr>\n",
       "      <th>ExtraTreesClassifier</th>\n",
       "      <td>0.93</td>\n",
       "      <td>0.66</td>\n",
       "      <td>0.66</td>\n",
       "      <td>0.92</td>\n",
       "      <td>7.91</td>\n",
       "    </tr>\n",
       "    <tr>\n",
       "      <th>KNeighborsClassifier</th>\n",
       "      <td>0.92</td>\n",
       "      <td>0.65</td>\n",
       "      <td>0.65</td>\n",
       "      <td>0.91</td>\n",
       "      <td>58.01</td>\n",
       "    </tr>\n",
       "    <tr>\n",
       "      <th>LinearDiscriminantAnalysis</th>\n",
       "      <td>0.92</td>\n",
       "      <td>0.62</td>\n",
       "      <td>0.62</td>\n",
       "      <td>0.91</td>\n",
       "      <td>0.69</td>\n",
       "    </tr>\n",
       "    <tr>\n",
       "      <th>RidgeClassifier</th>\n",
       "      <td>0.92</td>\n",
       "      <td>0.62</td>\n",
       "      <td>0.62</td>\n",
       "      <td>0.91</td>\n",
       "      <td>0.28</td>\n",
       "    </tr>\n",
       "    <tr>\n",
       "      <th>RidgeClassifierCV</th>\n",
       "      <td>0.92</td>\n",
       "      <td>0.62</td>\n",
       "      <td>0.62</td>\n",
       "      <td>0.91</td>\n",
       "      <td>0.67</td>\n",
       "    </tr>\n",
       "    <tr>\n",
       "      <th>GaussianNB</th>\n",
       "      <td>0.60</td>\n",
       "      <td>0.59</td>\n",
       "      <td>0.59</td>\n",
       "      <td>0.70</td>\n",
       "      <td>0.26</td>\n",
       "    </tr>\n",
       "    <tr>\n",
       "      <th>NuSVC</th>\n",
       "      <td>0.92</td>\n",
       "      <td>0.55</td>\n",
       "      <td>0.55</td>\n",
       "      <td>0.90</td>\n",
       "      <td>387.61</td>\n",
       "    </tr>\n",
       "    <tr>\n",
       "      <th>QuadraticDiscriminantAnalysis</th>\n",
       "      <td>0.36</td>\n",
       "      <td>0.54</td>\n",
       "      <td>0.54</td>\n",
       "      <td>0.46</td>\n",
       "      <td>0.48</td>\n",
       "    </tr>\n",
       "    <tr>\n",
       "      <th>DummyClassifier</th>\n",
       "      <td>0.50</td>\n",
       "      <td>0.50</td>\n",
       "      <td>0.50</td>\n",
       "      <td>0.61</td>\n",
       "      <td>0.19</td>\n",
       "    </tr>\n",
       "  </tbody>\n",
       "</table>\n",
       "</div>"
      ],
      "text/plain": [
       "                               Accuracy  Balanced Accuracy  ROC AUC  F1 Score  \\\n",
       "Model                                                                           \n",
       "LGBMClassifier                     0.94               0.78     0.78      0.94   \n",
       "XGBClassifier                      0.93               0.74     0.74      0.93   \n",
       "AdaBoostClassifier                 0.92               0.73     0.73      0.92   \n",
       "PassiveAggressiveClassifier        0.90               0.73     0.73      0.91   \n",
       "LogisticRegression                 0.92               0.72     0.72      0.92   \n",
       "SVC                                0.93               0.72     0.72      0.93   \n",
       "LinearSVC                          0.92               0.71     0.71      0.92   \n",
       "RandomForestClassifier             0.93               0.71     0.71      0.93   \n",
       "DecisionTreeClassifier             0.91               0.71     0.71      0.91   \n",
       "SGDClassifier                      0.92               0.70     0.70      0.92   \n",
       "BaggingClassifier                  0.93               0.70     0.70      0.92   \n",
       "CalibratedClassifierCV             0.93               0.69     0.69      0.92   \n",
       "Perceptron                         0.88               0.68     0.68      0.89   \n",
       "NearestCentroid                    0.91               0.68     0.68      0.91   \n",
       "ExtraTreeClassifier                0.90               0.68     0.68      0.90   \n",
       "BernoulliNB                        0.92               0.67     0.67      0.92   \n",
       "ExtraTreesClassifier               0.93               0.66     0.66      0.92   \n",
       "KNeighborsClassifier               0.92               0.65     0.65      0.91   \n",
       "LinearDiscriminantAnalysis         0.92               0.62     0.62      0.91   \n",
       "RidgeClassifier                    0.92               0.62     0.62      0.91   \n",
       "RidgeClassifierCV                  0.92               0.62     0.62      0.91   \n",
       "GaussianNB                         0.60               0.59     0.59      0.70   \n",
       "NuSVC                              0.92               0.55     0.55      0.90   \n",
       "QuadraticDiscriminantAnalysis      0.36               0.54     0.54      0.46   \n",
       "DummyClassifier                    0.50               0.50     0.50      0.61   \n",
       "\n",
       "                               Time Taken  \n",
       "Model                                      \n",
       "LGBMClassifier                       1.48  \n",
       "XGBClassifier                        8.21  \n",
       "AdaBoostClassifier                   3.82  \n",
       "PassiveAggressiveClassifier          0.34  \n",
       "LogisticRegression                   0.45  \n",
       "SVC                                 65.30  \n",
       "LinearSVC                           13.80  \n",
       "RandomForestClassifier               9.35  \n",
       "DecisionTreeClassifier               0.74  \n",
       "SGDClassifier                        0.53  \n",
       "BaggingClassifier                    4.56  \n",
       "CalibratedClassifierCV              48.30  \n",
       "Perceptron                           0.42  \n",
       "NearestCentroid                      0.23  \n",
       "ExtraTreeClassifier                  0.27  \n",
       "BernoulliNB                          0.25  \n",
       "ExtraTreesClassifier                 7.91  \n",
       "KNeighborsClassifier                58.01  \n",
       "LinearDiscriminantAnalysis           0.69  \n",
       "RidgeClassifier                      0.28  \n",
       "RidgeClassifierCV                    0.67  \n",
       "GaussianNB                           0.26  \n",
       "NuSVC                              387.61  \n",
       "QuadraticDiscriminantAnalysis        0.48  \n",
       "DummyClassifier                      0.19  "
      ]
     },
     "execution_count": 22,
     "metadata": {},
     "output_type": "execute_result"
    }
   ],
   "source": [
    "models_smo"
   ]
  },
  {
   "cell_type": "markdown",
   "id": "976801e2",
   "metadata": {},
   "source": [
    "### c. Undersampling"
   ]
  },
  {
   "cell_type": "code",
   "execution_count": 23,
   "id": "9f3b3329",
   "metadata": {},
   "outputs": [],
   "source": [
    "rus = RandomUnderSampler(random_state = seed_value)               # Create an instance of RandomUnderSampler\n",
    "X_rus, y_rus = rus.fit_resample(X_train, y_train)                 # Resample training data"
   ]
  },
  {
   "cell_type": "code",
   "execution_count": 24,
   "id": "63f2aa54",
   "metadata": {},
   "outputs": [
    {
     "data": {
      "text/plain": [
       "1    2320\n",
       "0    2320\n",
       "Name: y_yes, dtype: int64"
      ]
     },
     "execution_count": 24,
     "metadata": {},
     "output_type": "execute_result"
    }
   ],
   "source": [
    "pd.value_counts(y_rus)                                            # Check value counts after rebalancing"
   ]
  },
  {
   "cell_type": "markdown",
   "id": "5db75b64",
   "metadata": {},
   "source": [
    "The classes is now balanced as both classes have equal counts."
   ]
  },
  {
   "cell_type": "code",
   "execution_count": 25,
   "id": "2ff1c5d4",
   "metadata": {
    "scrolled": true
   },
   "outputs": [
    {
     "name": "stderr",
     "output_type": "stream",
     "text": [
      "  4%|███                                                                                | 1/27 [00:00<00:13,  1.86it/s]"
     ]
    },
    {
     "name": "stdout",
     "output_type": "stream",
     "text": [
      "{'Model': 'AdaBoostClassifier', 'Accuracy': 0.876625, 'Balanced Accuracy': 0.8638649425287357, 'ROC AUC': 0.8638649425287357, 'F1 Score': 0.8985742666235176, 'Time taken': 0.5382215976715088}\n"
     ]
    },
    {
     "name": "stderr",
     "output_type": "stream",
     "text": [
      "  7%|██████▏                                                                            | 2/27 [00:00<00:11,  2.17it/s]"
     ]
    },
    {
     "name": "stdout",
     "output_type": "stream",
     "text": [
      "{'Model': 'BaggingClassifier', 'Accuracy': 0.8625, 'Balanced Accuracy': 0.8618594348659003, 'ROC AUC': 0.8618594348659004, 'F1 Score': 0.8887448851260208, 'Time taken': 0.4082486629486084}\n",
      "{'Model': 'BernoulliNB', 'Accuracy': 0.831625, 'Balanced Accuracy': 0.8380178400383143, 'ROC AUC': 0.8380178400383141, 'F1 Score': 0.8668324441125772, 'Time taken': 0.0514833927154541}\n"
     ]
    },
    {
     "name": "stderr",
     "output_type": "stream",
     "text": [
      " 22%|██████████████████▍                                                                | 6/27 [00:03<00:09,  2.11it/s]"
     ]
    },
    {
     "name": "stdout",
     "output_type": "stream",
     "text": [
      "{'Model': 'CalibratedClassifierCV', 'Accuracy': 0.87325, 'Balanced Accuracy': 0.8724556992337165, 'ROC AUC': 0.8724556992337164, 'F1 Score': 0.8965213623802597, 'Time taken': 2.112241506576538}\n",
      "{'Model': 'DecisionTreeClassifier', 'Accuracy': 0.81875, 'Balanced Accuracy': 0.8102625119731801, 'ROC AUC': 0.8102625119731801, 'F1 Score': 0.8572486167007612, 'Time taken': 0.08149099349975586}\n",
      "{'Model': 'DummyClassifier', 'Accuracy': 0.496, 'Balanced Accuracy': 0.5034497725095786, 'ROC AUC': 0.5034497725095786, 'F1 Score': 0.6083372494034699, 'Time taken': 0.050662994384765625}\n",
      "{'Model': 'ExtraTreeClassifier', 'Accuracy': 0.764875, 'Balanced Accuracy': 0.7500074832375478, 'ROC AUC': 0.7500074832375478, 'F1 Score': 0.8188073021303063, 'Time taken': 0.04893994331359863}\n"
     ]
    },
    {
     "name": "stderr",
     "output_type": "stream",
     "text": [
      " 33%|███████████████████████████▋                                                       | 9/27 [00:04<00:07,  2.46it/s]"
     ]
    },
    {
     "name": "stdout",
     "output_type": "stream",
     "text": [
      "{'Model': 'ExtraTreesClassifier', 'Accuracy': 0.85725, 'Balanced Accuracy': 0.862233596743295, 'ROC AUC': 0.862233596743295, 'F1 Score': 0.8851394953132069, 'Time taken': 0.9254708290100098}\n",
      "{'Model': 'GaussianNB', 'Accuracy': 0.922125, 'Balanced Accuracy': 0.5753038194444444, 'ROC AUC': 0.5753038194444444, 'F1 Score': 0.9071473755149402, 'Time taken': 0.05049300193786621}\n"
     ]
    },
    {
     "name": "stderr",
     "output_type": "stream",
     "text": [
      " 41%|█████████████████████████████████▍                                                | 11/27 [00:07<00:12,  1.28it/s]"
     ]
    },
    {
     "name": "stdout",
     "output_type": "stream",
     "text": [
      "{'Model': 'KNeighborsClassifier', 'Accuracy': 0.796625, 'Balanced Accuracy': 0.7591071000957854, 'ROC AUC': 0.7591071000957854, 'F1 Score': 0.8407689191585589, 'Time taken': 3.071946620941162}\n",
      "{'Model': 'LinearDiscriminantAnalysis', 'Accuracy': 0.8815, 'Balanced Accuracy': 0.8608866139846744, 'ROC AUC': 0.8608866139846744, 'F1 Score': 0.901854917921778, 'Time taken': 0.08058929443359375}\n"
     ]
    },
    {
     "name": "stderr",
     "output_type": "stream",
     "text": [
      " 56%|█████████████████████████████████████████████▌                                    | 15/27 [00:08<00:05,  2.13it/s]"
     ]
    },
    {
     "name": "stdout",
     "output_type": "stream",
     "text": [
      "{'Model': 'LinearSVC', 'Accuracy': 0.8755, 'Balanced Accuracy': 0.8736679837164751, 'ROC AUC': 0.873667983716475, 'F1 Score': 0.8981234285714286, 'Time taken': 0.6754498481750488}\n",
      "{'Model': 'LogisticRegression', 'Accuracy': 0.873375, 'Balanced Accuracy': 0.8701209291187739, 'ROC AUC': 0.8701209291187739, 'F1 Score': 0.8965312481260139, 'Time taken': 0.08222174644470215}\n",
      "{'Model': 'NearestCentroid', 'Accuracy': 0.829875, 'Balanced Accuracy': 0.8106516403256705, 'ROC AUC': 0.8106516403256705, 'F1 Score': 0.8648304628256862, 'Time taken': 0.04687213897705078}\n"
     ]
    },
    {
     "name": "stderr",
     "output_type": "stream",
     "text": [
      " 67%|██████████████████████████████████████████████████████▋                           | 18/27 [00:10<00:05,  1.77it/s]"
     ]
    },
    {
     "name": "stdout",
     "output_type": "stream",
     "text": [
      "{'Model': 'NuSVC', 'Accuracy': 0.862, 'Balanced Accuracy': 0.8663942768199233, 'ROC AUC': 0.8663942768199233, 'F1 Score': 0.8885438757429911, 'Time taken': 2.4586100578308105}\n",
      "{'Model': 'PassiveAggressiveClassifier', 'Accuracy': 0.8095, 'Balanced Accuracy': 0.7812574832375478, 'ROC AUC': 0.7812574832375478, 'F1 Score': 0.8501280859368794, 'Time taken': 0.0518646240234375}\n",
      "{'Model': 'Perceptron', 'Accuracy': 0.837625, 'Balanced Accuracy': 0.8084216355363985, 'ROC AUC': 0.8084216355363983, 'F1 Score': 0.8700165313971313, 'Time taken': 0.05690813064575195}\n",
      "{'Model': 'QuadraticDiscriminantAnalysis', 'Accuracy': 0.9275, 'Balanced Accuracy': 0.5445701628352491, 'ROC AUC': 0.5445701628352492, 'F1 Score': 0.9044924789033201, 'Time taken': 0.08442544937133789}\n"
     ]
    },
    {
     "name": "stderr",
     "output_type": "stream",
     "text": [
      " 81%|██████████████████████████████████████████████████████████████████▊               | 22/27 [00:11<00:01,  2.57it/s]"
     ]
    },
    {
     "name": "stdout",
     "output_type": "stream",
     "text": [
      "{'Model': 'RandomForestClassifier', 'Accuracy': 0.86625, 'Balanced Accuracy': 0.8854989822796935, 'ROC AUC': 0.8854989822796935, 'F1 Score': 0.8920733879800169, 'Time taken': 0.9068706035614014}\n",
      "{'Model': 'RidgeClassifier', 'Accuracy': 0.8815, 'Balanced Accuracy': 0.8608866139846744, 'ROC AUC': 0.8608866139846744, 'F1 Score': 0.901854917921778, 'Time taken': 0.05094265937805176}\n",
      "{'Model': 'RidgeClassifierCV', 'Accuracy': 0.88175, 'Balanced Accuracy': 0.8610213122605364, 'ROC AUC': 0.8610213122605364, 'F1 Score': 0.9020335182577225, 'Time taken': 0.07262110710144043}\n",
      "{'Model': 'SGDClassifier', 'Accuracy': 0.85375, 'Balanced Accuracy': 0.858746408045977, 'ROC AUC': 0.858746408045977, 'F1 Score': 0.88262314094665, 'Time taken': 0.09061193466186523}\n"
     ]
    },
    {
     "name": "stderr",
     "output_type": "stream",
     "text": [
      " 89%|████████████████████████████████████████████████████████████████████████▉         | 24/27 [00:13<00:01,  1.72it/s]"
     ]
    },
    {
     "name": "stdout",
     "output_type": "stream",
     "text": [
      "{'Model': 'SVC', 'Accuracy': 0.860875, 'Balanced Accuracy': 0.8713930795019158, 'ROC AUC': 0.8713930795019156, 'F1 Score': 0.8879222665364546, 'Time taken': 1.9251954555511475}\n"
     ]
    },
    {
     "name": "stderr",
     "output_type": "stream",
     "text": [
      " 96%|██████████████████████████████████████████████████████████████████████████████▉   | 26/27 [00:14<00:00,  1.92it/s]"
     ]
    },
    {
     "name": "stdout",
     "output_type": "stream",
     "text": [
      "{'Model': 'XGBClassifier', 'Accuracy': 0.86825, 'Balanced Accuracy': 0.8929822198275862, 'ROC AUC': 0.8929822198275862, 'F1 Score': 0.8936872438606895, 'Time taken': 0.7720274925231934}\n"
     ]
    },
    {
     "name": "stderr",
     "output_type": "stream",
     "text": [
      "100%|██████████████████████████████████████████████████████████████████████████████████| 27/27 [00:15<00:00,  1.78it/s]"
     ]
    },
    {
     "name": "stdout",
     "output_type": "stream",
     "text": [
      "{'Model': 'LGBMClassifier', 'Accuracy': 0.869625, 'Balanced Accuracy': 0.8945237667624522, 'ROC AUC': 0.8945237667624523, 'F1 Score': 0.8946903378526866, 'Time taken': 0.4239811897277832}\n"
     ]
    },
    {
     "name": "stderr",
     "output_type": "stream",
     "text": [
      "\n"
     ]
    }
   ],
   "source": [
    "lzy_u = LazyClassifier(verbose = 1, ignore_warnings = True, custom_metric = None)     # Create an instance of LazyClassifier\n",
    "models_u, predictions_u = lzy_u.fit(X_rus, X_test, y_rus, y_test)                     # Fit model with training data and make predictions"
   ]
  },
  {
   "cell_type": "code",
   "execution_count": 26,
   "id": "05eff9a7",
   "metadata": {},
   "outputs": [
    {
     "data": {
      "text/html": [
       "<div>\n",
       "<style scoped>\n",
       "    .dataframe tbody tr th:only-of-type {\n",
       "        vertical-align: middle;\n",
       "    }\n",
       "\n",
       "    .dataframe tbody tr th {\n",
       "        vertical-align: top;\n",
       "    }\n",
       "\n",
       "    .dataframe thead th {\n",
       "        text-align: right;\n",
       "    }\n",
       "</style>\n",
       "<table border=\"1\" class=\"dataframe\">\n",
       "  <thead>\n",
       "    <tr style=\"text-align: right;\">\n",
       "      <th></th>\n",
       "      <th>Accuracy</th>\n",
       "      <th>Balanced Accuracy</th>\n",
       "      <th>ROC AUC</th>\n",
       "      <th>F1 Score</th>\n",
       "      <th>Time Taken</th>\n",
       "    </tr>\n",
       "    <tr>\n",
       "      <th>Model</th>\n",
       "      <th></th>\n",
       "      <th></th>\n",
       "      <th></th>\n",
       "      <th></th>\n",
       "      <th></th>\n",
       "    </tr>\n",
       "  </thead>\n",
       "  <tbody>\n",
       "    <tr>\n",
       "      <th>LGBMClassifier</th>\n",
       "      <td>0.87</td>\n",
       "      <td>0.89</td>\n",
       "      <td>0.89</td>\n",
       "      <td>0.89</td>\n",
       "      <td>0.42</td>\n",
       "    </tr>\n",
       "    <tr>\n",
       "      <th>XGBClassifier</th>\n",
       "      <td>0.87</td>\n",
       "      <td>0.89</td>\n",
       "      <td>0.89</td>\n",
       "      <td>0.89</td>\n",
       "      <td>0.77</td>\n",
       "    </tr>\n",
       "    <tr>\n",
       "      <th>RandomForestClassifier</th>\n",
       "      <td>0.87</td>\n",
       "      <td>0.89</td>\n",
       "      <td>0.89</td>\n",
       "      <td>0.89</td>\n",
       "      <td>0.91</td>\n",
       "    </tr>\n",
       "    <tr>\n",
       "      <th>LinearSVC</th>\n",
       "      <td>0.88</td>\n",
       "      <td>0.87</td>\n",
       "      <td>0.87</td>\n",
       "      <td>0.90</td>\n",
       "      <td>0.68</td>\n",
       "    </tr>\n",
       "    <tr>\n",
       "      <th>CalibratedClassifierCV</th>\n",
       "      <td>0.87</td>\n",
       "      <td>0.87</td>\n",
       "      <td>0.87</td>\n",
       "      <td>0.90</td>\n",
       "      <td>2.11</td>\n",
       "    </tr>\n",
       "    <tr>\n",
       "      <th>SVC</th>\n",
       "      <td>0.86</td>\n",
       "      <td>0.87</td>\n",
       "      <td>0.87</td>\n",
       "      <td>0.89</td>\n",
       "      <td>1.93</td>\n",
       "    </tr>\n",
       "    <tr>\n",
       "      <th>LogisticRegression</th>\n",
       "      <td>0.87</td>\n",
       "      <td>0.87</td>\n",
       "      <td>0.87</td>\n",
       "      <td>0.90</td>\n",
       "      <td>0.08</td>\n",
       "    </tr>\n",
       "    <tr>\n",
       "      <th>NuSVC</th>\n",
       "      <td>0.86</td>\n",
       "      <td>0.87</td>\n",
       "      <td>0.87</td>\n",
       "      <td>0.89</td>\n",
       "      <td>2.46</td>\n",
       "    </tr>\n",
       "    <tr>\n",
       "      <th>AdaBoostClassifier</th>\n",
       "      <td>0.88</td>\n",
       "      <td>0.86</td>\n",
       "      <td>0.86</td>\n",
       "      <td>0.90</td>\n",
       "      <td>0.54</td>\n",
       "    </tr>\n",
       "    <tr>\n",
       "      <th>ExtraTreesClassifier</th>\n",
       "      <td>0.86</td>\n",
       "      <td>0.86</td>\n",
       "      <td>0.86</td>\n",
       "      <td>0.89</td>\n",
       "      <td>0.93</td>\n",
       "    </tr>\n",
       "    <tr>\n",
       "      <th>BaggingClassifier</th>\n",
       "      <td>0.86</td>\n",
       "      <td>0.86</td>\n",
       "      <td>0.86</td>\n",
       "      <td>0.89</td>\n",
       "      <td>0.41</td>\n",
       "    </tr>\n",
       "    <tr>\n",
       "      <th>RidgeClassifierCV</th>\n",
       "      <td>0.88</td>\n",
       "      <td>0.86</td>\n",
       "      <td>0.86</td>\n",
       "      <td>0.90</td>\n",
       "      <td>0.07</td>\n",
       "    </tr>\n",
       "    <tr>\n",
       "      <th>LinearDiscriminantAnalysis</th>\n",
       "      <td>0.88</td>\n",
       "      <td>0.86</td>\n",
       "      <td>0.86</td>\n",
       "      <td>0.90</td>\n",
       "      <td>0.08</td>\n",
       "    </tr>\n",
       "    <tr>\n",
       "      <th>RidgeClassifier</th>\n",
       "      <td>0.88</td>\n",
       "      <td>0.86</td>\n",
       "      <td>0.86</td>\n",
       "      <td>0.90</td>\n",
       "      <td>0.05</td>\n",
       "    </tr>\n",
       "    <tr>\n",
       "      <th>SGDClassifier</th>\n",
       "      <td>0.85</td>\n",
       "      <td>0.86</td>\n",
       "      <td>0.86</td>\n",
       "      <td>0.88</td>\n",
       "      <td>0.09</td>\n",
       "    </tr>\n",
       "    <tr>\n",
       "      <th>BernoulliNB</th>\n",
       "      <td>0.83</td>\n",
       "      <td>0.84</td>\n",
       "      <td>0.84</td>\n",
       "      <td>0.87</td>\n",
       "      <td>0.05</td>\n",
       "    </tr>\n",
       "    <tr>\n",
       "      <th>NearestCentroid</th>\n",
       "      <td>0.83</td>\n",
       "      <td>0.81</td>\n",
       "      <td>0.81</td>\n",
       "      <td>0.86</td>\n",
       "      <td>0.05</td>\n",
       "    </tr>\n",
       "    <tr>\n",
       "      <th>DecisionTreeClassifier</th>\n",
       "      <td>0.82</td>\n",
       "      <td>0.81</td>\n",
       "      <td>0.81</td>\n",
       "      <td>0.86</td>\n",
       "      <td>0.08</td>\n",
       "    </tr>\n",
       "    <tr>\n",
       "      <th>Perceptron</th>\n",
       "      <td>0.84</td>\n",
       "      <td>0.81</td>\n",
       "      <td>0.81</td>\n",
       "      <td>0.87</td>\n",
       "      <td>0.06</td>\n",
       "    </tr>\n",
       "    <tr>\n",
       "      <th>PassiveAggressiveClassifier</th>\n",
       "      <td>0.81</td>\n",
       "      <td>0.78</td>\n",
       "      <td>0.78</td>\n",
       "      <td>0.85</td>\n",
       "      <td>0.05</td>\n",
       "    </tr>\n",
       "    <tr>\n",
       "      <th>KNeighborsClassifier</th>\n",
       "      <td>0.80</td>\n",
       "      <td>0.76</td>\n",
       "      <td>0.76</td>\n",
       "      <td>0.84</td>\n",
       "      <td>3.07</td>\n",
       "    </tr>\n",
       "    <tr>\n",
       "      <th>ExtraTreeClassifier</th>\n",
       "      <td>0.76</td>\n",
       "      <td>0.75</td>\n",
       "      <td>0.75</td>\n",
       "      <td>0.82</td>\n",
       "      <td>0.05</td>\n",
       "    </tr>\n",
       "    <tr>\n",
       "      <th>GaussianNB</th>\n",
       "      <td>0.92</td>\n",
       "      <td>0.58</td>\n",
       "      <td>0.58</td>\n",
       "      <td>0.91</td>\n",
       "      <td>0.05</td>\n",
       "    </tr>\n",
       "    <tr>\n",
       "      <th>QuadraticDiscriminantAnalysis</th>\n",
       "      <td>0.93</td>\n",
       "      <td>0.54</td>\n",
       "      <td>0.54</td>\n",
       "      <td>0.90</td>\n",
       "      <td>0.08</td>\n",
       "    </tr>\n",
       "    <tr>\n",
       "      <th>DummyClassifier</th>\n",
       "      <td>0.50</td>\n",
       "      <td>0.50</td>\n",
       "      <td>0.50</td>\n",
       "      <td>0.61</td>\n",
       "      <td>0.05</td>\n",
       "    </tr>\n",
       "  </tbody>\n",
       "</table>\n",
       "</div>"
      ],
      "text/plain": [
       "                               Accuracy  Balanced Accuracy  ROC AUC  F1 Score  \\\n",
       "Model                                                                           \n",
       "LGBMClassifier                     0.87               0.89     0.89      0.89   \n",
       "XGBClassifier                      0.87               0.89     0.89      0.89   \n",
       "RandomForestClassifier             0.87               0.89     0.89      0.89   \n",
       "LinearSVC                          0.88               0.87     0.87      0.90   \n",
       "CalibratedClassifierCV             0.87               0.87     0.87      0.90   \n",
       "SVC                                0.86               0.87     0.87      0.89   \n",
       "LogisticRegression                 0.87               0.87     0.87      0.90   \n",
       "NuSVC                              0.86               0.87     0.87      0.89   \n",
       "AdaBoostClassifier                 0.88               0.86     0.86      0.90   \n",
       "ExtraTreesClassifier               0.86               0.86     0.86      0.89   \n",
       "BaggingClassifier                  0.86               0.86     0.86      0.89   \n",
       "RidgeClassifierCV                  0.88               0.86     0.86      0.90   \n",
       "LinearDiscriminantAnalysis         0.88               0.86     0.86      0.90   \n",
       "RidgeClassifier                    0.88               0.86     0.86      0.90   \n",
       "SGDClassifier                      0.85               0.86     0.86      0.88   \n",
       "BernoulliNB                        0.83               0.84     0.84      0.87   \n",
       "NearestCentroid                    0.83               0.81     0.81      0.86   \n",
       "DecisionTreeClassifier             0.82               0.81     0.81      0.86   \n",
       "Perceptron                         0.84               0.81     0.81      0.87   \n",
       "PassiveAggressiveClassifier        0.81               0.78     0.78      0.85   \n",
       "KNeighborsClassifier               0.80               0.76     0.76      0.84   \n",
       "ExtraTreeClassifier                0.76               0.75     0.75      0.82   \n",
       "GaussianNB                         0.92               0.58     0.58      0.91   \n",
       "QuadraticDiscriminantAnalysis      0.93               0.54     0.54      0.90   \n",
       "DummyClassifier                    0.50               0.50     0.50      0.61   \n",
       "\n",
       "                               Time Taken  \n",
       "Model                                      \n",
       "LGBMClassifier                       0.42  \n",
       "XGBClassifier                        0.77  \n",
       "RandomForestClassifier               0.91  \n",
       "LinearSVC                            0.68  \n",
       "CalibratedClassifierCV               2.11  \n",
       "SVC                                  1.93  \n",
       "LogisticRegression                   0.08  \n",
       "NuSVC                                2.46  \n",
       "AdaBoostClassifier                   0.54  \n",
       "ExtraTreesClassifier                 0.93  \n",
       "BaggingClassifier                    0.41  \n",
       "RidgeClassifierCV                    0.07  \n",
       "LinearDiscriminantAnalysis           0.08  \n",
       "RidgeClassifier                      0.05  \n",
       "SGDClassifier                        0.09  \n",
       "BernoulliNB                          0.05  \n",
       "NearestCentroid                      0.05  \n",
       "DecisionTreeClassifier               0.08  \n",
       "Perceptron                           0.06  \n",
       "PassiveAggressiveClassifier          0.05  \n",
       "KNeighborsClassifier                 3.07  \n",
       "ExtraTreeClassifier                  0.05  \n",
       "GaussianNB                           0.05  \n",
       "QuadraticDiscriminantAnalysis        0.08  \n",
       "DummyClassifier                      0.05  "
      ]
     },
     "execution_count": 26,
     "metadata": {},
     "output_type": "execute_result"
    }
   ],
   "source": [
    "models_u"
   ]
  },
  {
   "cell_type": "markdown",
   "id": "01032a2c",
   "metadata": {},
   "source": [
    "We see that the highest F1 score achieved is 94% when class balancing is done using SMOTE oversampling. We'll continue with SMOTE oversampling and build individual models for models with high F1 score."
   ]
  },
  {
   "cell_type": "markdown",
   "id": "f86e0300",
   "metadata": {},
   "source": [
    "# Modeling"
   ]
  },
  {
   "cell_type": "markdown",
   "id": "f8ff0dad",
   "metadata": {},
   "source": [
    "Based on diversity, time taken to run and F1 score, we have selected the following models for individual modeling: LightGBM, Logistic Regression, Support Vector Machine, Stochastic Gradient Descent and Passive Aggressive Classifier. "
   ]
  },
  {
   "cell_type": "markdown",
   "id": "0f4d5ff6",
   "metadata": {},
   "source": [
    "### Evaluation Metric - We have selected 'Recall for class 1' as our evaluation metric because the company would like to predict maximum number of people who would subscribe to a term deposit. \n",
    "\n",
    "Recall in our case is (subscribed customers predicted correctly)/(subscribed customers predicted correctly + subscribed customers predicted incorrectly).\n",
    "\n",
    "We would like to minimize the number of subscribed customers predicted incorrectly as it would be a lost opportunity. And hence would like to maximize Recall."
   ]
  },
  {
   "cell_type": "markdown",
   "id": "915554b1",
   "metadata": {},
   "source": [
    "### a. Light GBM"
   ]
  },
  {
   "cell_type": "code",
   "execution_count": 27,
   "id": "36261ede",
   "metadata": {},
   "outputs": [
    {
     "name": "stdout",
     "output_type": "stream",
     "text": [
      "              precision    recall  f1-score   support\n",
      "\n",
      "           0       0.97      0.96      0.96      7424\n",
      "           1       0.54      0.60      0.57       576\n",
      "\n",
      "    accuracy                           0.93      8000\n",
      "   macro avg       0.76      0.78      0.77      8000\n",
      "weighted avg       0.94      0.93      0.94      8000\n",
      "\n"
     ]
    }
   ],
   "source": [
    "lgbm = LGBMClassifier()                                         # Create an instance of LGBMClassifier\n",
    "lgbm.fit(X_smo, y_smo)                                          # Fit model with SMOTE oversampled training data\n",
    "print(classification_report(y_test, lgbm.predict(X_test)))      # Generate classification report"
   ]
  },
  {
   "cell_type": "markdown",
   "id": "1df44c60",
   "metadata": {},
   "source": [
    "The F1 score using LGBMClassifier is 93% which is quite good. However, Recall for class 1 is only 60%. That is, our model is able to predict customers who will not subscribe to term deposit marketing with much greater accuracy but is unable to maintain high accuracy for people who will subscribe."
   ]
  },
  {
   "cell_type": "code",
   "execution_count": 28,
   "id": "ecac90e9",
   "metadata": {},
   "outputs": [
    {
     "data": {
      "text/plain": [
       "array([0.83600067, 0.9703504 , 0.9724562 , 0.97321429, 0.97456199])"
      ]
     },
     "execution_count": 28,
     "metadata": {},
     "output_type": "execute_result"
    }
   ],
   "source": [
    "cross_val_score(lgbm, X_smo, y_smo, cv=5)"
   ]
  },
  {
   "cell_type": "markdown",
   "id": "87f5765e",
   "metadata": {},
   "source": [
    "The 5-fold cross validation indicates that accuracy should be in the range [0.83, 0.97]. Our F1 score of 0.93 fits in this range."
   ]
  },
  {
   "cell_type": "markdown",
   "id": "e8e64baa",
   "metadata": {},
   "source": [
    "### b. Logistic Regression"
   ]
  },
  {
   "cell_type": "code",
   "execution_count": 29,
   "id": "6d9616c6",
   "metadata": {},
   "outputs": [
    {
     "data": {
      "text/plain": [
       "LogisticRegression(random_state=42)"
      ]
     },
     "execution_count": 29,
     "metadata": {},
     "output_type": "execute_result"
    }
   ],
   "source": [
    "logreg = LogisticRegression(random_state = seed_value)           # Create an instance of LogisticRegression\n",
    "logreg.fit(X_smo, y_smo)                                         # Fit model with training data"
   ]
  },
  {
   "cell_type": "code",
   "execution_count": 30,
   "id": "542c8be3",
   "metadata": {},
   "outputs": [
    {
     "name": "stdout",
     "output_type": "stream",
     "text": [
      "              precision    recall  f1-score   support\n",
      "\n",
      "           0       0.97      0.91      0.94      7424\n",
      "           1       0.34      0.59      0.43       576\n",
      "\n",
      "    accuracy                           0.89      8000\n",
      "   macro avg       0.65      0.75      0.69      8000\n",
      "weighted avg       0.92      0.89      0.90      8000\n",
      "\n"
     ]
    }
   ],
   "source": [
    "print(classification_report(y_test, logreg.predict(X_test)))     # Generate classification report"
   ]
  },
  {
   "cell_type": "markdown",
   "id": "efc393a9",
   "metadata": {},
   "source": [
    "The recall for class 1 has dropped slightly to 59% compared to 60% for LightGBM."
   ]
  },
  {
   "cell_type": "code",
   "execution_count": 31,
   "id": "766f2653",
   "metadata": {},
   "outputs": [
    {
     "data": {
      "text/plain": [
       "array([0.84307615, 0.91610512, 0.91265162, 0.91391509, 0.92419137])"
      ]
     },
     "execution_count": 31,
     "metadata": {},
     "output_type": "execute_result"
    }
   ],
   "source": [
    "cross_val_score(logreg, X_smo, y_smo, cv=5)                      # Generate cross validation report"
   ]
  },
  {
   "cell_type": "markdown",
   "id": "932a4a9b",
   "metadata": {},
   "source": [
    "The F1 score of 89% fits in the cross validation range of [84%, 92%] based on 5-fold cross validation. "
   ]
  },
  {
   "cell_type": "markdown",
   "id": "f1908d64",
   "metadata": {},
   "source": [
    "### c. Support Vector Machine"
   ]
  },
  {
   "cell_type": "code",
   "execution_count": 32,
   "id": "0b966535",
   "metadata": {},
   "outputs": [
    {
     "name": "stdout",
     "output_type": "stream",
     "text": [
      "              precision    recall  f1-score   support\n",
      "\n",
      "           0       0.98      0.85      0.91      7424\n",
      "           1       0.28      0.76      0.41       576\n",
      "\n",
      "    accuracy                           0.84      8000\n",
      "   macro avg       0.63      0.80      0.66      8000\n",
      "weighted avg       0.93      0.84      0.87      8000\n",
      "\n"
     ]
    }
   ],
   "source": [
    "svc = SVC()                                                     # Create an instance of SVC\n",
    "svc.fit(X_smo, y_smo)                                           # Fit model with SMOTE oversampled training data\n",
    "print(classification_report(y_test, svc.predict(X_test)))       # Generate classification report"
   ]
  },
  {
   "cell_type": "markdown",
   "id": "eb85356f",
   "metadata": {},
   "source": [
    "The F1 score for SVC is only 84% compared to 93% predicted by Lazypredict for the same model. This is much lower than 93% F1 score predicted by Light GBM model. However, the recall for class 1 is 76% which is highest till now making it one of models of interest."
   ]
  },
  {
   "cell_type": "code",
   "execution_count": 33,
   "id": "69f73a80",
   "metadata": {
    "scrolled": true
   },
   "outputs": [
    {
     "data": {
      "text/plain": [
       "array([0.79144205, 0.80121294, 0.79169474, 0.79405323, 0.79514825])"
      ]
     },
     "execution_count": 33,
     "metadata": {},
     "output_type": "execute_result"
    }
   ],
   "source": [
    "cross_val_score(svc, X_smo, y_smo, cv=5)"
   ]
  },
  {
   "cell_type": "markdown",
   "id": "ac82e21f",
   "metadata": {},
   "source": [
    "The 5-fold cross validation indicates that accuracy should be in the range [0.79, 0.80] but our F1 score falls outside this range at 84% which is surprising."
   ]
  },
  {
   "cell_type": "markdown",
   "id": "d85480f1",
   "metadata": {},
   "source": [
    "### d. Stochastic Gradient Descent"
   ]
  },
  {
   "cell_type": "code",
   "execution_count": 34,
   "id": "dfb51373",
   "metadata": {},
   "outputs": [
    {
     "data": {
      "text/plain": [
       "SGDClassifier(random_state=42)"
      ]
     },
     "execution_count": 34,
     "metadata": {},
     "output_type": "execute_result"
    }
   ],
   "source": [
    "sgdc = SGDClassifier(random_state = seed_value)                      # Create an instance of SGDClassifier\n",
    "sgdc.fit(X_smo, y_smo)                                               # Fit model with training data"
   ]
  },
  {
   "cell_type": "code",
   "execution_count": 35,
   "id": "c9551596",
   "metadata": {},
   "outputs": [
    {
     "name": "stdout",
     "output_type": "stream",
     "text": [
      "              precision    recall  f1-score   support\n",
      "\n",
      "           0       0.98      0.76      0.86      7424\n",
      "           1       0.21      0.82      0.33       576\n",
      "\n",
      "    accuracy                           0.76      8000\n",
      "   macro avg       0.60      0.79      0.60      8000\n",
      "weighted avg       0.93      0.76      0.82      8000\n",
      "\n"
     ]
    }
   ],
   "source": [
    "print(classification_report(y_test, sgdc.predict(X_test)))           # Generate classification report"
   ]
  },
  {
   "cell_type": "markdown",
   "id": "232c0b92",
   "metadata": {},
   "source": [
    "The recall for class 1 increases even further to 82%! In the meanwhile overall F1 score has dipped to 76%."
   ]
  },
  {
   "cell_type": "code",
   "execution_count": 36,
   "id": "d2e0e611",
   "metadata": {},
   "outputs": [
    {
     "data": {
      "text/plain": [
       "array([0.78049191, 0.67284367, 0.70881065, 0.69541779, 0.69870283])"
      ]
     },
     "execution_count": 36,
     "metadata": {},
     "output_type": "execute_result"
    }
   ],
   "source": [
    "cross_val_score(sgdc, X_smo, y_smo, cv=5)                            # Generate cross validation report"
   ]
  },
  {
   "cell_type": "markdown",
   "id": "e4695166",
   "metadata": {},
   "source": [
    "The 5-fold cross validation states that the accuracy should be in the range [67%, 78%]. Our F1 score of 76% falls in this range."
   ]
  },
  {
   "cell_type": "markdown",
   "id": "484419f7",
   "metadata": {},
   "source": [
    "### e. Passive Aggressive Classifier"
   ]
  },
  {
   "cell_type": "code",
   "execution_count": 37,
   "id": "5c21e869",
   "metadata": {},
   "outputs": [
    {
     "name": "stdout",
     "output_type": "stream",
     "text": [
      "              precision    recall  f1-score   support\n",
      "\n",
      "           0       0.97      0.90      0.94      7424\n",
      "           1       0.35      0.65      0.45       576\n",
      "\n",
      "    accuracy                           0.89      8000\n",
      "   macro avg       0.66      0.78      0.69      8000\n",
      "weighted avg       0.93      0.89      0.90      8000\n",
      "\n"
     ]
    }
   ],
   "source": [
    "pac = PassiveAggressiveClassifier(random_state = seed_value)           # Create an instance of PassiveAggressiveClassifier\n",
    "pac.fit(X_smo, y_smo)                                                  # Fit model with training data\n",
    "print(classification_report(y_test, pac.predict(X_test)))              # Generate classification report"
   ]
  },
  {
   "cell_type": "markdown",
   "id": "8a1a93be",
   "metadata": {},
   "source": [
    "The recall for class 1 is third highest at 65%. The F1 score is also decent at 89%."
   ]
  },
  {
   "cell_type": "code",
   "execution_count": 38,
   "id": "2c6679af",
   "metadata": {
    "scrolled": true
   },
   "outputs": [
    {
     "data": {
      "text/plain": [
       "array([0.76314016, 0.91492588, 0.84661388, 0.73803908, 0.66399933])"
      ]
     },
     "execution_count": 38,
     "metadata": {},
     "output_type": "execute_result"
    }
   ],
   "source": [
    "cross_val_score(pac, X_smo, y_smo, cv=5)"
   ]
  },
  {
   "cell_type": "markdown",
   "id": "32b47d86",
   "metadata": {},
   "source": [
    "The 5-fold cross validation suggests that accuracy should be in the range [0.84, 0.98]. Our F1 score of 93% falls in this range."
   ]
  },
  {
   "cell_type": "markdown",
   "id": "5721afd3",
   "metadata": {},
   "source": [
    "Based on the modeling so far, Stochastic Gradient Descent, Support Vector Machine and Passive Aggressive Classifer give the highest recall values for class 1. Lets build a ensemble model based on the above models to make our final model robust."
   ]
  },
  {
   "cell_type": "markdown",
   "id": "1439b9d3",
   "metadata": {},
   "source": [
    "# Ensemble Modeling"
   ]
  },
  {
   "cell_type": "markdown",
   "id": "c14f44d3",
   "metadata": {},
   "source": [
    "We'll experiment with two types of ensemble modeling to see if that increases our accuracy. The two types of ensemble models are: Stacking Classifier and Voting Classifier."
   ]
  },
  {
   "cell_type": "markdown",
   "id": "d73e5c43",
   "metadata": {},
   "source": [
    "### a. Stacking Classifier"
   ]
  },
  {
   "cell_type": "code",
   "execution_count": 39,
   "id": "62501ea4",
   "metadata": {},
   "outputs": [],
   "source": [
    "# Create a list of initial estimators for Stacking Classifier\n",
    "estimators = [('svc_em', SVC(random_state = seed_value)), ('pac_em', PassiveAggressiveClassifier(random_state = seed_value))]"
   ]
  },
  {
   "cell_type": "code",
   "execution_count": 40,
   "id": "509656ab",
   "metadata": {},
   "outputs": [
    {
     "name": "stdout",
     "output_type": "stream",
     "text": [
      "              precision    recall  f1-score   support\n",
      "\n",
      "           0       0.98      0.87      0.92      7424\n",
      "           1       0.31      0.74      0.44       576\n",
      "\n",
      "    accuracy                           0.86      8000\n",
      "   macro avg       0.64      0.81      0.68      8000\n",
      "weighted avg       0.93      0.86      0.89      8000\n",
      "\n"
     ]
    }
   ],
   "source": [
    "stc = StackingClassifier(estimators = estimators, final_estimator = SGDClassifier(random_state = seed_value))  # Create an instance of Stacking Classifier\n",
    "stc.fit(X_smo, y_smo)                                               # Fit model with training data\n",
    "print(classification_report(y_test, stc.predict(X_test)))           # Generate classification report"
   ]
  },
  {
   "cell_type": "markdown",
   "id": "3e01f3d6",
   "metadata": {},
   "source": [
    "The highest recall for class 1 after experimenting with final estimator is 74%."
   ]
  },
  {
   "cell_type": "markdown",
   "id": "5e70b99e",
   "metadata": {},
   "source": [
    "### b. Voting Classifier"
   ]
  },
  {
   "cell_type": "code",
   "execution_count": 41,
   "id": "726e5229",
   "metadata": {},
   "outputs": [],
   "source": [
    "# Build a voting classifier\n",
    "vot_clf = VotingClassifier(estimators = [('sgdc', sgdc), ('svc', svc), ('pac', pac)], voting = 'hard')"
   ]
  },
  {
   "cell_type": "code",
   "execution_count": 42,
   "id": "4406c919",
   "metadata": {},
   "outputs": [
    {
     "name": "stdout",
     "output_type": "stream",
     "text": [
      "              precision    recall  f1-score   support\n",
      "\n",
      "           0       0.98      0.85      0.91      7424\n",
      "           1       0.28      0.76      0.41       576\n",
      "\n",
      "    accuracy                           0.84      8000\n",
      "   macro avg       0.63      0.80      0.66      8000\n",
      "weighted avg       0.93      0.84      0.87      8000\n",
      "\n"
     ]
    }
   ],
   "source": [
    "vot_clf.fit(X_smo, y_smo)\n",
    "print(classification_report(y_test, vot_clf.predict(X_test)))                # Generate classification report"
   ]
  },
  {
   "cell_type": "markdown",
   "id": "67e691ca",
   "metadata": {},
   "source": [
    "The recall for class 1 using VotingClassifier is 76% which is quite good. However, it is lower than 82% recall achieved using SGDClassifier."
   ]
  },
  {
   "cell_type": "markdown",
   "id": "e63b2d49",
   "metadata": {},
   "source": [
    "Based on the modeling so far, we see that SGD model gives the highest recall for class 1 at 82%."
   ]
  },
  {
   "cell_type": "code",
   "execution_count": 43,
   "id": "c1ce12ea",
   "metadata": {},
   "outputs": [],
   "source": [
    "# hierarchical clustering - diff colors, kmeans, shap feature importance"
   ]
  },
  {
   "cell_type": "markdown",
   "id": "f190a75b",
   "metadata": {},
   "source": [
    "# Feature Importance"
   ]
  },
  {
   "cell_type": "markdown",
   "id": "de3af69e",
   "metadata": {},
   "source": [
    "We'll now identify important features to understand what makes the customer subscribe to the term deposit marketing."
   ]
  },
  {
   "cell_type": "markdown",
   "id": "e389ae0a",
   "metadata": {},
   "source": [
    "One way to understand importance of features is by calculating magnitude of coefficient times the standard deviation for the parameters. We'll consider SGD model as it gave us the highest recall for class 1."
   ]
  },
  {
   "cell_type": "code",
   "execution_count": 44,
   "id": "1ac72bd4",
   "metadata": {},
   "outputs": [
    {
     "data": {
      "text/plain": [
       "array([[-7.32255621e+01,  1.94061565e+00, -3.64016260e+01,\n",
       "         2.42375857e+01, -6.86027743e+02, -2.93513090e+02,\n",
       "        -4.57050179e+01, -3.07205491e+01, -1.63708024e+02,\n",
       "        -2.13995609e+01, -4.38875760e+01, -1.24586519e+02,\n",
       "        -1.30664769e+01, -1.72616757e+02, -3.63991122e+01,\n",
       "        -7.58650005e+00, -3.89060760e+02, -1.97399826e+02,\n",
       "        -4.16111232e+02, -1.25456277e+02, -4.70398196e+01,\n",
       "        -1.71211570e+01, -6.10419145e+02, -2.07733856e+02,\n",
       "        -4.79146049e+01, -4.28539217e+02, -1.27386838e+02,\n",
       "        -4.02200135e-01, -3.43001303e+01, -3.99334459e+01,\n",
       "        -1.86620863e+02, -1.49497790e+02,  2.00748143e+01,\n",
       "        -3.93784097e+02, -1.33246391e+02,  5.93496575e+00]])"
      ]
     },
     "execution_count": 44,
     "metadata": {},
     "output_type": "execute_result"
    }
   ],
   "source": [
    "# Estimated coefficients for SGDClassifier\n",
    "sgdc.coef_"
   ]
  },
  {
   "cell_type": "code",
   "execution_count": 45,
   "id": "0001ba18",
   "metadata": {
    "scrolled": true
   },
   "outputs": [
    {
     "name": "stdout",
     "output_type": "stream",
     "text": [
      "[[-7.06015606e+02  5.63503052e+03 -3.01333527e+02  6.28633913e+03\n",
      "  -2.22205141e+03 -1.24371152e+02 -8.41409820e+00 -4.99494961e+00\n",
      "  -6.59872863e+01 -3.98252639e+00 -8.10440597e+00 -3.69992467e+01\n",
      "  -1.48569864e+00 -6.50369706e+01 -5.96304117e+00 -5.79783562e-01\n",
      "  -1.89795019e+02 -8.78636693e+01 -2.07799017e+02 -5.63389455e+01\n",
      "  -9.02503095e+00 -2.41013046e+00 -2.98946131e+02 -7.86196319e+01\n",
      "  -1.12019898e+01 -1.99758229e+02 -4.28931287e+01 -7.24958771e-03\n",
      "  -7.97839316e+00 -6.74575551e+00 -6.83296814e+01 -4.82910903e+01\n",
      "   1.60703841e+00 -1.86311533e+02 -3.81231402e+01  2.65154184e-01]]\n"
     ]
    }
   ],
   "source": [
    "# Feature importance - Normalizing relationship between coefficients\n",
    "print(np.std(X, 0).values*sgdc.coef_)"
   ]
  },
  {
   "cell_type": "code",
   "execution_count": 46,
   "id": "b0e3166a",
   "metadata": {},
   "outputs": [
    {
     "data": {
      "text/plain": [
       "Index(['age', 'balance', 'day', 'duration', 'campaign', 'job_blue-collar',\n",
       "       'job_entrepreneur', 'job_housemaid', 'job_management', 'job_retired',\n",
       "       'job_self-employed', 'job_services', 'job_student', 'job_technician',\n",
       "       'job_unemployed', 'job_unknown', 'marital_married', 'marital_single',\n",
       "       'education_secondary', 'education_tertiary', 'education_unknown',\n",
       "       'default_yes', 'housing_yes', 'loan_yes', 'contact_telephone',\n",
       "       'contact_unknown', 'month_aug', 'month_dec', 'month_feb', 'month_jan',\n",
       "       'month_jul', 'month_jun', 'month_mar', 'month_may', 'month_nov',\n",
       "       'month_oct'],\n",
       "      dtype='object')"
      ]
     },
     "execution_count": 46,
     "metadata": {},
     "output_type": "execute_result"
    }
   ],
   "source": [
    "X.columns"
   ]
  },
  {
   "cell_type": "markdown",
   "id": "e02479a9",
   "metadata": {},
   "source": [
    "From the above feature importance, we see that duration and balance are most positively influential parameters whereas campaign is most negatively influential parameter. That is people who are more likely to convert have higher balance and high talk time in the last call."
   ]
  },
  {
   "cell_type": "markdown",
   "id": "3f24d92b",
   "metadata": {},
   "source": [
    "# Clustering"
   ]
  },
  {
   "cell_type": "markdown",
   "id": "3f1050f5",
   "metadata": {},
   "source": [
    "We'll now use Kmeans clustering technique to identify customers who are more likely to subscribe to the term deposit."
   ]
  },
  {
   "cell_type": "code",
   "execution_count": 48,
   "id": "df089299",
   "metadata": {},
   "outputs": [],
   "source": [
    "# Since Kmeans is a distance-based algorithm, we need to standarize the data\n",
    "scaler = StandardScaler()                              # Create an instance of StandardScaler\n",
    "tdm_scale = scaler.fit_transform(X)                    # Standardize data"
   ]
  },
  {
   "cell_type": "code",
   "execution_count": 49,
   "id": "5b1aeca6",
   "metadata": {},
   "outputs": [
    {
     "data": {
      "text/html": [
       "<div>\n",
       "<style scoped>\n",
       "    .dataframe tbody tr th:only-of-type {\n",
       "        vertical-align: middle;\n",
       "    }\n",
       "\n",
       "    .dataframe tbody tr th {\n",
       "        vertical-align: top;\n",
       "    }\n",
       "\n",
       "    .dataframe thead th {\n",
       "        text-align: right;\n",
       "    }\n",
       "</style>\n",
       "<table border=\"1\" class=\"dataframe\">\n",
       "  <thead>\n",
       "    <tr style=\"text-align: right;\">\n",
       "      <th></th>\n",
       "      <th>age</th>\n",
       "      <th>balance</th>\n",
       "      <th>day</th>\n",
       "      <th>duration</th>\n",
       "      <th>campaign</th>\n",
       "      <th>job_blue-collar</th>\n",
       "      <th>job_entrepreneur</th>\n",
       "      <th>job_housemaid</th>\n",
       "      <th>job_management</th>\n",
       "      <th>job_retired</th>\n",
       "      <th>...</th>\n",
       "      <th>month_aug</th>\n",
       "      <th>month_dec</th>\n",
       "      <th>month_feb</th>\n",
       "      <th>month_jan</th>\n",
       "      <th>month_jul</th>\n",
       "      <th>month_jun</th>\n",
       "      <th>month_mar</th>\n",
       "      <th>month_may</th>\n",
       "      <th>month_nov</th>\n",
       "      <th>month_oct</th>\n",
       "    </tr>\n",
       "  </thead>\n",
       "  <tbody>\n",
       "    <tr>\n",
       "      <th>0</th>\n",
       "      <td>1.81</td>\n",
       "      <td>0.30</td>\n",
       "      <td>-1.33</td>\n",
       "      <td>0.02</td>\n",
       "      <td>-0.58</td>\n",
       "      <td>-0.55</td>\n",
       "      <td>-0.19</td>\n",
       "      <td>-0.17</td>\n",
       "      <td>1.97</td>\n",
       "      <td>-0.19</td>\n",
       "      <td>...</td>\n",
       "      <td>-0.39</td>\n",
       "      <td>-0.02</td>\n",
       "      <td>-0.25</td>\n",
       "      <td>-0.17</td>\n",
       "      <td>-0.44</td>\n",
       "      <td>-0.37</td>\n",
       "      <td>-0.08</td>\n",
       "      <td>1.40</td>\n",
       "      <td>-0.31</td>\n",
       "      <td>-0.04</td>\n",
       "    </tr>\n",
       "    <tr>\n",
       "      <th>1</th>\n",
       "      <td>0.36</td>\n",
       "      <td>-0.43</td>\n",
       "      <td>-1.33</td>\n",
       "      <td>-0.40</td>\n",
       "      <td>-0.58</td>\n",
       "      <td>-0.55</td>\n",
       "      <td>-0.19</td>\n",
       "      <td>-0.17</td>\n",
       "      <td>-0.51</td>\n",
       "      <td>-0.19</td>\n",
       "      <td>...</td>\n",
       "      <td>-0.39</td>\n",
       "      <td>-0.02</td>\n",
       "      <td>-0.25</td>\n",
       "      <td>-0.17</td>\n",
       "      <td>-0.44</td>\n",
       "      <td>-0.37</td>\n",
       "      <td>-0.08</td>\n",
       "      <td>1.40</td>\n",
       "      <td>-0.31</td>\n",
       "      <td>-0.04</td>\n",
       "    </tr>\n",
       "    <tr>\n",
       "      <th>2</th>\n",
       "      <td>-0.78</td>\n",
       "      <td>-0.44</td>\n",
       "      <td>-1.33</td>\n",
       "      <td>-0.69</td>\n",
       "      <td>-0.58</td>\n",
       "      <td>-0.55</td>\n",
       "      <td>5.24</td>\n",
       "      <td>-0.17</td>\n",
       "      <td>-0.51</td>\n",
       "      <td>-0.19</td>\n",
       "      <td>...</td>\n",
       "      <td>-0.39</td>\n",
       "      <td>-0.02</td>\n",
       "      <td>-0.25</td>\n",
       "      <td>-0.17</td>\n",
       "      <td>-0.44</td>\n",
       "      <td>-0.37</td>\n",
       "      <td>-0.08</td>\n",
       "      <td>1.40</td>\n",
       "      <td>-0.31</td>\n",
       "      <td>-0.04</td>\n",
       "    </tr>\n",
       "    <tr>\n",
       "      <th>3</th>\n",
       "      <td>0.67</td>\n",
       "      <td>0.08</td>\n",
       "      <td>-1.33</td>\n",
       "      <td>-0.63</td>\n",
       "      <td>-0.58</td>\n",
       "      <td>1.81</td>\n",
       "      <td>-0.19</td>\n",
       "      <td>-0.17</td>\n",
       "      <td>-0.51</td>\n",
       "      <td>-0.19</td>\n",
       "      <td>...</td>\n",
       "      <td>-0.39</td>\n",
       "      <td>-0.02</td>\n",
       "      <td>-0.25</td>\n",
       "      <td>-0.17</td>\n",
       "      <td>-0.44</td>\n",
       "      <td>-0.37</td>\n",
       "      <td>-0.08</td>\n",
       "      <td>1.40</td>\n",
       "      <td>-0.31</td>\n",
       "      <td>-0.04</td>\n",
       "    </tr>\n",
       "    <tr>\n",
       "      <th>4</th>\n",
       "      <td>-0.78</td>\n",
       "      <td>-0.44</td>\n",
       "      <td>-1.33</td>\n",
       "      <td>-0.22</td>\n",
       "      <td>-0.58</td>\n",
       "      <td>-0.55</td>\n",
       "      <td>-0.19</td>\n",
       "      <td>-0.17</td>\n",
       "      <td>-0.51</td>\n",
       "      <td>-0.19</td>\n",
       "      <td>...</td>\n",
       "      <td>-0.39</td>\n",
       "      <td>-0.02</td>\n",
       "      <td>-0.25</td>\n",
       "      <td>-0.17</td>\n",
       "      <td>-0.44</td>\n",
       "      <td>-0.37</td>\n",
       "      <td>-0.08</td>\n",
       "      <td>1.40</td>\n",
       "      <td>-0.31</td>\n",
       "      <td>-0.04</td>\n",
       "    </tr>\n",
       "  </tbody>\n",
       "</table>\n",
       "<p>5 rows × 36 columns</p>\n",
       "</div>"
      ],
      "text/plain": [
       "    age  balance   day  duration  campaign  job_blue-collar  job_entrepreneur  \\\n",
       "0  1.81     0.30 -1.33      0.02     -0.58            -0.55             -0.19   \n",
       "1  0.36    -0.43 -1.33     -0.40     -0.58            -0.55             -0.19   \n",
       "2 -0.78    -0.44 -1.33     -0.69     -0.58            -0.55              5.24   \n",
       "3  0.67     0.08 -1.33     -0.63     -0.58             1.81             -0.19   \n",
       "4 -0.78    -0.44 -1.33     -0.22     -0.58            -0.55             -0.19   \n",
       "\n",
       "   job_housemaid  job_management  job_retired  ...  month_aug  month_dec  \\\n",
       "0          -0.17            1.97        -0.19  ...      -0.39      -0.02   \n",
       "1          -0.17           -0.51        -0.19  ...      -0.39      -0.02   \n",
       "2          -0.17           -0.51        -0.19  ...      -0.39      -0.02   \n",
       "3          -0.17           -0.51        -0.19  ...      -0.39      -0.02   \n",
       "4          -0.17           -0.51        -0.19  ...      -0.39      -0.02   \n",
       "\n",
       "   month_feb  month_jan  month_jul  month_jun  month_mar  month_may  \\\n",
       "0      -0.25      -0.17      -0.44      -0.37      -0.08       1.40   \n",
       "1      -0.25      -0.17      -0.44      -0.37      -0.08       1.40   \n",
       "2      -0.25      -0.17      -0.44      -0.37      -0.08       1.40   \n",
       "3      -0.25      -0.17      -0.44      -0.37      -0.08       1.40   \n",
       "4      -0.25      -0.17      -0.44      -0.37      -0.08       1.40   \n",
       "\n",
       "   month_nov  month_oct  \n",
       "0      -0.31      -0.04  \n",
       "1      -0.31      -0.04  \n",
       "2      -0.31      -0.04  \n",
       "3      -0.31      -0.04  \n",
       "4      -0.31      -0.04  \n",
       "\n",
       "[5 rows x 36 columns]"
      ]
     },
     "execution_count": 49,
     "metadata": {},
     "output_type": "execute_result"
    }
   ],
   "source": [
    "tdm_scaled = pd.DataFrame(tdm_scale, columns = X.columns)        # Create a dataframe with standarized data\n",
    "tdm_scaled.head()"
   ]
  },
  {
   "cell_type": "code",
   "execution_count": 50,
   "id": "b19a7fa9",
   "metadata": {
    "scrolled": true
   },
   "outputs": [
    {
     "data": {
      "text/html": [
       "<div>\n",
       "<style scoped>\n",
       "    .dataframe tbody tr th:only-of-type {\n",
       "        vertical-align: middle;\n",
       "    }\n",
       "\n",
       "    .dataframe tbody tr th {\n",
       "        vertical-align: top;\n",
       "    }\n",
       "\n",
       "    .dataframe thead th {\n",
       "        text-align: right;\n",
       "    }\n",
       "</style>\n",
       "<table border=\"1\" class=\"dataframe\">\n",
       "  <thead>\n",
       "    <tr style=\"text-align: right;\">\n",
       "      <th></th>\n",
       "      <th>age</th>\n",
       "      <th>balance</th>\n",
       "      <th>day</th>\n",
       "      <th>duration</th>\n",
       "      <th>campaign</th>\n",
       "      <th>job_blue-collar</th>\n",
       "      <th>job_entrepreneur</th>\n",
       "      <th>job_housemaid</th>\n",
       "      <th>job_management</th>\n",
       "      <th>job_retired</th>\n",
       "      <th>...</th>\n",
       "      <th>month_aug</th>\n",
       "      <th>month_dec</th>\n",
       "      <th>month_feb</th>\n",
       "      <th>month_jan</th>\n",
       "      <th>month_jul</th>\n",
       "      <th>month_jun</th>\n",
       "      <th>month_mar</th>\n",
       "      <th>month_may</th>\n",
       "      <th>month_nov</th>\n",
       "      <th>month_oct</th>\n",
       "    </tr>\n",
       "  </thead>\n",
       "  <tbody>\n",
       "    <tr>\n",
       "      <th>count</th>\n",
       "      <td>40000.00</td>\n",
       "      <td>40000.00</td>\n",
       "      <td>40000.00</td>\n",
       "      <td>40000.00</td>\n",
       "      <td>40000.00</td>\n",
       "      <td>40000.00</td>\n",
       "      <td>40000.00</td>\n",
       "      <td>40000.00</td>\n",
       "      <td>40000.00</td>\n",
       "      <td>40000.00</td>\n",
       "      <td>...</td>\n",
       "      <td>40000.00</td>\n",
       "      <td>40000.00</td>\n",
       "      <td>40000.00</td>\n",
       "      <td>40000.00</td>\n",
       "      <td>40000.00</td>\n",
       "      <td>40000.00</td>\n",
       "      <td>40000.00</td>\n",
       "      <td>40000.00</td>\n",
       "      <td>40000.00</td>\n",
       "      <td>40000.00</td>\n",
       "    </tr>\n",
       "    <tr>\n",
       "      <th>mean</th>\n",
       "      <td>-0.00</td>\n",
       "      <td>-0.00</td>\n",
       "      <td>0.00</td>\n",
       "      <td>0.00</td>\n",
       "      <td>-0.00</td>\n",
       "      <td>0.00</td>\n",
       "      <td>-0.00</td>\n",
       "      <td>0.00</td>\n",
       "      <td>-0.00</td>\n",
       "      <td>0.00</td>\n",
       "      <td>...</td>\n",
       "      <td>0.00</td>\n",
       "      <td>0.00</td>\n",
       "      <td>-0.00</td>\n",
       "      <td>0.00</td>\n",
       "      <td>0.00</td>\n",
       "      <td>0.00</td>\n",
       "      <td>0.00</td>\n",
       "      <td>0.00</td>\n",
       "      <td>-0.00</td>\n",
       "      <td>0.00</td>\n",
       "    </tr>\n",
       "    <tr>\n",
       "      <th>std</th>\n",
       "      <td>1.00</td>\n",
       "      <td>1.00</td>\n",
       "      <td>1.00</td>\n",
       "      <td>1.00</td>\n",
       "      <td>1.00</td>\n",
       "      <td>1.00</td>\n",
       "      <td>1.00</td>\n",
       "      <td>1.00</td>\n",
       "      <td>1.00</td>\n",
       "      <td>1.00</td>\n",
       "      <td>...</td>\n",
       "      <td>1.00</td>\n",
       "      <td>1.00</td>\n",
       "      <td>1.00</td>\n",
       "      <td>1.00</td>\n",
       "      <td>1.00</td>\n",
       "      <td>1.00</td>\n",
       "      <td>1.00</td>\n",
       "      <td>1.00</td>\n",
       "      <td>1.00</td>\n",
       "      <td>1.00</td>\n",
       "    </tr>\n",
       "    <tr>\n",
       "      <th>min</th>\n",
       "      <td>-2.23</td>\n",
       "      <td>-3.20</td>\n",
       "      <td>-1.81</td>\n",
       "      <td>-0.98</td>\n",
       "      <td>-0.58</td>\n",
       "      <td>-0.55</td>\n",
       "      <td>-0.19</td>\n",
       "      <td>-0.17</td>\n",
       "      <td>-0.51</td>\n",
       "      <td>-0.19</td>\n",
       "      <td>...</td>\n",
       "      <td>-0.39</td>\n",
       "      <td>-0.02</td>\n",
       "      <td>-0.25</td>\n",
       "      <td>-0.17</td>\n",
       "      <td>-0.44</td>\n",
       "      <td>-0.37</td>\n",
       "      <td>-0.08</td>\n",
       "      <td>-0.72</td>\n",
       "      <td>-0.31</td>\n",
       "      <td>-0.04</td>\n",
       "    </tr>\n",
       "    <tr>\n",
       "      <th>25%</th>\n",
       "      <td>-0.78</td>\n",
       "      <td>-0.42</td>\n",
       "      <td>-0.97</td>\n",
       "      <td>-0.60</td>\n",
       "      <td>-0.58</td>\n",
       "      <td>-0.55</td>\n",
       "      <td>-0.19</td>\n",
       "      <td>-0.17</td>\n",
       "      <td>-0.51</td>\n",
       "      <td>-0.19</td>\n",
       "      <td>...</td>\n",
       "      <td>-0.39</td>\n",
       "      <td>-0.02</td>\n",
       "      <td>-0.25</td>\n",
       "      <td>-0.17</td>\n",
       "      <td>-0.44</td>\n",
       "      <td>-0.37</td>\n",
       "      <td>-0.08</td>\n",
       "      <td>-0.72</td>\n",
       "      <td>-0.31</td>\n",
       "      <td>-0.04</td>\n",
       "    </tr>\n",
       "    <tr>\n",
       "      <th>50%</th>\n",
       "      <td>-0.16</td>\n",
       "      <td>-0.30</td>\n",
       "      <td>0.12</td>\n",
       "      <td>-0.31</td>\n",
       "      <td>-0.27</td>\n",
       "      <td>-0.55</td>\n",
       "      <td>-0.19</td>\n",
       "      <td>-0.17</td>\n",
       "      <td>-0.51</td>\n",
       "      <td>-0.19</td>\n",
       "      <td>...</td>\n",
       "      <td>-0.39</td>\n",
       "      <td>-0.02</td>\n",
       "      <td>-0.25</td>\n",
       "      <td>-0.17</td>\n",
       "      <td>-0.44</td>\n",
       "      <td>-0.37</td>\n",
       "      <td>-0.08</td>\n",
       "      <td>-0.72</td>\n",
       "      <td>-0.31</td>\n",
       "      <td>-0.04</td>\n",
       "    </tr>\n",
       "    <tr>\n",
       "      <th>75%</th>\n",
       "      <td>0.77</td>\n",
       "      <td>0.02</td>\n",
       "      <td>0.60</td>\n",
       "      <td>0.22</td>\n",
       "      <td>0.04</td>\n",
       "      <td>-0.55</td>\n",
       "      <td>-0.19</td>\n",
       "      <td>-0.17</td>\n",
       "      <td>-0.51</td>\n",
       "      <td>-0.19</td>\n",
       "      <td>...</td>\n",
       "      <td>-0.39</td>\n",
       "      <td>-0.02</td>\n",
       "      <td>-0.25</td>\n",
       "      <td>-0.17</td>\n",
       "      <td>-0.44</td>\n",
       "      <td>-0.37</td>\n",
       "      <td>-0.08</td>\n",
       "      <td>1.40</td>\n",
       "      <td>-0.31</td>\n",
       "      <td>-0.04</td>\n",
       "    </tr>\n",
       "    <tr>\n",
       "      <th>max</th>\n",
       "      <td>5.65</td>\n",
       "      <td>34.73</td>\n",
       "      <td>1.81</td>\n",
       "      <td>17.98</td>\n",
       "      <td>18.56</td>\n",
       "      <td>1.81</td>\n",
       "      <td>5.24</td>\n",
       "      <td>5.98</td>\n",
       "      <td>1.97</td>\n",
       "      <td>5.18</td>\n",
       "      <td>...</td>\n",
       "      <td>2.58</td>\n",
       "      <td>55.46</td>\n",
       "      <td>4.05</td>\n",
       "      <td>5.75</td>\n",
       "      <td>2.30</td>\n",
       "      <td>2.73</td>\n",
       "      <td>12.41</td>\n",
       "      <td>1.40</td>\n",
       "      <td>3.18</td>\n",
       "      <td>22.34</td>\n",
       "    </tr>\n",
       "  </tbody>\n",
       "</table>\n",
       "<p>8 rows × 36 columns</p>\n",
       "</div>"
      ],
      "text/plain": [
       "           age  balance      day  duration  campaign  job_blue-collar  \\\n",
       "count 40000.00 40000.00 40000.00  40000.00  40000.00         40000.00   \n",
       "mean     -0.00    -0.00     0.00      0.00     -0.00             0.00   \n",
       "std       1.00     1.00     1.00      1.00      1.00             1.00   \n",
       "min      -2.23    -3.20    -1.81     -0.98     -0.58            -0.55   \n",
       "25%      -0.78    -0.42    -0.97     -0.60     -0.58            -0.55   \n",
       "50%      -0.16    -0.30     0.12     -0.31     -0.27            -0.55   \n",
       "75%       0.77     0.02     0.60      0.22      0.04            -0.55   \n",
       "max       5.65    34.73     1.81     17.98     18.56             1.81   \n",
       "\n",
       "       job_entrepreneur  job_housemaid  job_management  job_retired  ...  \\\n",
       "count          40000.00       40000.00        40000.00     40000.00  ...   \n",
       "mean              -0.00           0.00           -0.00         0.00  ...   \n",
       "std                1.00           1.00            1.00         1.00  ...   \n",
       "min               -0.19          -0.17           -0.51        -0.19  ...   \n",
       "25%               -0.19          -0.17           -0.51        -0.19  ...   \n",
       "50%               -0.19          -0.17           -0.51        -0.19  ...   \n",
       "75%               -0.19          -0.17           -0.51        -0.19  ...   \n",
       "max                5.24           5.98            1.97         5.18  ...   \n",
       "\n",
       "       month_aug  month_dec  month_feb  month_jan  month_jul  month_jun  \\\n",
       "count   40000.00   40000.00   40000.00   40000.00   40000.00   40000.00   \n",
       "mean        0.00       0.00      -0.00       0.00       0.00       0.00   \n",
       "std         1.00       1.00       1.00       1.00       1.00       1.00   \n",
       "min        -0.39      -0.02      -0.25      -0.17      -0.44      -0.37   \n",
       "25%        -0.39      -0.02      -0.25      -0.17      -0.44      -0.37   \n",
       "50%        -0.39      -0.02      -0.25      -0.17      -0.44      -0.37   \n",
       "75%        -0.39      -0.02      -0.25      -0.17      -0.44      -0.37   \n",
       "max         2.58      55.46       4.05       5.75       2.30       2.73   \n",
       "\n",
       "       month_mar  month_may  month_nov  month_oct  \n",
       "count   40000.00   40000.00   40000.00   40000.00  \n",
       "mean        0.00       0.00      -0.00       0.00  \n",
       "std         1.00       1.00       1.00       1.00  \n",
       "min        -0.08      -0.72      -0.31      -0.04  \n",
       "25%        -0.08      -0.72      -0.31      -0.04  \n",
       "50%        -0.08      -0.72      -0.31      -0.04  \n",
       "75%        -0.08       1.40      -0.31      -0.04  \n",
       "max        12.41       1.40       3.18      22.34  \n",
       "\n",
       "[8 rows x 36 columns]"
      ]
     },
     "execution_count": 50,
     "metadata": {},
     "output_type": "execute_result"
    }
   ],
   "source": [
    "tdm_scaled.describe()                  # Get a summary of the standarized dataframe"
   ]
  },
  {
   "cell_type": "markdown",
   "id": "0d98737d",
   "metadata": {},
   "source": [
    "The maginitude of all the variables is similar after scaling."
   ]
  },
  {
   "cell_type": "code",
   "execution_count": 51,
   "id": "298cf5f5",
   "metadata": {},
   "outputs": [
    {
     "data": {
      "text/plain": [
       "Text(0, 0.5, 'Inertia')"
      ]
     },
     "execution_count": 51,
     "metadata": {},
     "output_type": "execute_result"
    },
    {
     "data": {
      "image/png": "[encoded data removed]",
      "text/plain": [
       "<Figure size 864x432 with 1 Axes>"
      ]
     },
     "metadata": {
      "needs_background": "light"
     },
     "output_type": "display_data"
    }
   ],
   "source": [
    "# fitting multiple k-means algorithms and storing the values in an empty list\n",
    "SSE = []\n",
    "for cluster in range(1,50):\n",
    "    kmeans = KMeans(n_jobs = -1, n_clusters = cluster, init='k-means++')\n",
    "    kmeans.fit(tdm_scaled)\n",
    "    SSE.append(kmeans.inertia_)\n",
    "\n",
    "# converting the results into a dataframe and plotting them\n",
    "frame = pd.DataFrame({'Cluster':range(1,50), 'SSE':SSE})\n",
    "plt.figure(figsize=(12,6))\n",
    "plt.plot(frame['Cluster'], frame['SSE'], marker='o')\n",
    "plt.xlabel('Number of clusters')\n",
    "plt.ylabel('Inertia')"
   ]
  },
  {
   "cell_type": "code",
   "execution_count": 53,
   "id": "6a41495b",
   "metadata": {},
   "outputs": [
    {
     "data": {
      "text/plain": [
       "KMeans(n_clusters=23)"
      ]
     },
     "execution_count": 53,
     "metadata": {},
     "output_type": "execute_result"
    }
   ],
   "source": [
    "# Defining the K-means cluster with centroid initialization using Kmeans++. \n",
    "# Kmeans++ helps in finding an optimized imitial centroid.\n",
    "kmeans2 = KMeans(n_clusters = 23, init ='k-means++')\n",
    "kmeans2.fit(tdm_scaled)                                          # Fit scaled data in Kmeans algorithm"
   ]
  },
  {
   "cell_type": "code",
   "execution_count": 54,
   "id": "0a74d2b6",
   "metadata": {},
   "outputs": [
    {
     "data": {
      "text/plain": [
       "650184.233602959"
      ]
     },
     "execution_count": 54,
     "metadata": {},
     "output_type": "execute_result"
    }
   ],
   "source": [
    "kmeans2.inertia_"
   ]
  },
  {
   "cell_type": "markdown",
   "id": "d5a6ce61",
   "metadata": {},
   "source": [
    "The elbow occures at k = 23 and the intertia at k = 23 is 650184. This is the total number of clusters in the dataset."
   ]
  },
  {
   "cell_type": "markdown",
   "id": "bf8415f6",
   "metadata": {},
   "source": [
    "# Principal Component Analysis"
   ]
  },
  {
   "cell_type": "markdown",
   "id": "37391d68",
   "metadata": {},
   "source": [
    "We currently have 30+ variables in the dataset. We now want to see whether we can reduce the dimensions so that it is easier to interpret clusters."
   ]
  },
  {
   "cell_type": "code",
   "execution_count": 82,
   "id": "10e652a6",
   "metadata": {},
   "outputs": [
    {
     "data": {
      "text/html": [
       "<div>\n",
       "<style scoped>\n",
       "    .dataframe tbody tr th:only-of-type {\n",
       "        vertical-align: middle;\n",
       "    }\n",
       "\n",
       "    .dataframe tbody tr th {\n",
       "        vertical-align: top;\n",
       "    }\n",
       "\n",
       "    .dataframe thead th {\n",
       "        text-align: right;\n",
       "    }\n",
       "</style>\n",
       "<table border=\"1\" class=\"dataframe\">\n",
       "  <thead>\n",
       "    <tr style=\"text-align: right;\">\n",
       "      <th></th>\n",
       "      <th>0</th>\n",
       "      <th>1</th>\n",
       "      <th>2</th>\n",
       "      <th>3</th>\n",
       "      <th>4</th>\n",
       "      <th>5</th>\n",
       "      <th>6</th>\n",
       "      <th>7</th>\n",
       "      <th>8</th>\n",
       "      <th>9</th>\n",
       "      <th>...</th>\n",
       "      <th>13</th>\n",
       "      <th>14</th>\n",
       "      <th>15</th>\n",
       "      <th>16</th>\n",
       "      <th>17</th>\n",
       "      <th>18</th>\n",
       "      <th>19</th>\n",
       "      <th>20</th>\n",
       "      <th>21</th>\n",
       "      <th>22</th>\n",
       "    </tr>\n",
       "  </thead>\n",
       "  <tbody>\n",
       "    <tr>\n",
       "      <th>0</th>\n",
       "      <td>0.60</td>\n",
       "      <td>-0.03</td>\n",
       "      <td>3.50</td>\n",
       "      <td>-0.94</td>\n",
       "      <td>-0.54</td>\n",
       "      <td>-0.88</td>\n",
       "      <td>-0.13</td>\n",
       "      <td>-0.12</td>\n",
       "      <td>1.32</td>\n",
       "      <td>0.11</td>\n",
       "      <td>...</td>\n",
       "      <td>0.41</td>\n",
       "      <td>0.03</td>\n",
       "      <td>-0.10</td>\n",
       "      <td>-0.08</td>\n",
       "      <td>0.13</td>\n",
       "      <td>0.14</td>\n",
       "      <td>-0.49</td>\n",
       "      <td>-0.18</td>\n",
       "      <td>-0.33</td>\n",
       "      <td>0.08</td>\n",
       "    </tr>\n",
       "    <tr>\n",
       "      <th>1</th>\n",
       "      <td>-2.17</td>\n",
       "      <td>1.90</td>\n",
       "      <td>-0.06</td>\n",
       "      <td>1.17</td>\n",
       "      <td>0.39</td>\n",
       "      <td>-1.31</td>\n",
       "      <td>0.30</td>\n",
       "      <td>-0.15</td>\n",
       "      <td>0.78</td>\n",
       "      <td>0.37</td>\n",
       "      <td>...</td>\n",
       "      <td>0.31</td>\n",
       "      <td>-0.02</td>\n",
       "      <td>-0.11</td>\n",
       "      <td>-0.19</td>\n",
       "      <td>0.55</td>\n",
       "      <td>0.34</td>\n",
       "      <td>-0.77</td>\n",
       "      <td>-0.60</td>\n",
       "      <td>0.32</td>\n",
       "      <td>0.15</td>\n",
       "    </tr>\n",
       "    <tr>\n",
       "      <th>2</th>\n",
       "      <td>-2.18</td>\n",
       "      <td>-0.34</td>\n",
       "      <td>0.96</td>\n",
       "      <td>-0.90</td>\n",
       "      <td>-0.86</td>\n",
       "      <td>-0.17</td>\n",
       "      <td>-1.38</td>\n",
       "      <td>-1.55</td>\n",
       "      <td>-0.36</td>\n",
       "      <td>0.24</td>\n",
       "      <td>...</td>\n",
       "      <td>-1.34</td>\n",
       "      <td>-0.42</td>\n",
       "      <td>-2.25</td>\n",
       "      <td>0.08</td>\n",
       "      <td>-0.58</td>\n",
       "      <td>-0.21</td>\n",
       "      <td>2.28</td>\n",
       "      <td>0.45</td>\n",
       "      <td>1.39</td>\n",
       "      <td>-1.37</td>\n",
       "    </tr>\n",
       "    <tr>\n",
       "      <th>3</th>\n",
       "      <td>-2.03</td>\n",
       "      <td>-1.01</td>\n",
       "      <td>2.66</td>\n",
       "      <td>-0.19</td>\n",
       "      <td>-0.16</td>\n",
       "      <td>1.21</td>\n",
       "      <td>1.15</td>\n",
       "      <td>2.82</td>\n",
       "      <td>-0.46</td>\n",
       "      <td>0.03</td>\n",
       "      <td>...</td>\n",
       "      <td>0.07</td>\n",
       "      <td>0.12</td>\n",
       "      <td>0.10</td>\n",
       "      <td>0.17</td>\n",
       "      <td>0.48</td>\n",
       "      <td>0.08</td>\n",
       "      <td>-0.44</td>\n",
       "      <td>-0.44</td>\n",
       "      <td>-0.51</td>\n",
       "      <td>1.06</td>\n",
       "    </tr>\n",
       "    <tr>\n",
       "      <th>4</th>\n",
       "      <td>-0.73</td>\n",
       "      <td>1.12</td>\n",
       "      <td>1.93</td>\n",
       "      <td>3.59</td>\n",
       "      <td>1.40</td>\n",
       "      <td>4.37</td>\n",
       "      <td>2.79</td>\n",
       "      <td>4.27</td>\n",
       "      <td>-1.00</td>\n",
       "      <td>1.19</td>\n",
       "      <td>...</td>\n",
       "      <td>2.01</td>\n",
       "      <td>0.82</td>\n",
       "      <td>3.20</td>\n",
       "      <td>0.53</td>\n",
       "      <td>0.22</td>\n",
       "      <td>0.46</td>\n",
       "      <td>-2.43</td>\n",
       "      <td>0.18</td>\n",
       "      <td>2.96</td>\n",
       "      <td>-4.42</td>\n",
       "    </tr>\n",
       "  </tbody>\n",
       "</table>\n",
       "<p>5 rows × 23 columns</p>\n",
       "</div>"
      ],
      "text/plain": [
       "     0     1     2     3     4     5     6     7     8    9   ...    13    14  \\\n",
       "0  0.60 -0.03  3.50 -0.94 -0.54 -0.88 -0.13 -0.12  1.32 0.11  ...  0.41  0.03   \n",
       "1 -2.17  1.90 -0.06  1.17  0.39 -1.31  0.30 -0.15  0.78 0.37  ...  0.31 -0.02   \n",
       "2 -2.18 -0.34  0.96 -0.90 -0.86 -0.17 -1.38 -1.55 -0.36 0.24  ... -1.34 -0.42   \n",
       "3 -2.03 -1.01  2.66 -0.19 -0.16  1.21  1.15  2.82 -0.46 0.03  ...  0.07  0.12   \n",
       "4 -0.73  1.12  1.93  3.59  1.40  4.37  2.79  4.27 -1.00 1.19  ...  2.01  0.82   \n",
       "\n",
       "     15    16    17    18    19    20    21    22  \n",
       "0 -0.10 -0.08  0.13  0.14 -0.49 -0.18 -0.33  0.08  \n",
       "1 -0.11 -0.19  0.55  0.34 -0.77 -0.60  0.32  0.15  \n",
       "2 -2.25  0.08 -0.58 -0.21  2.28  0.45  1.39 -1.37  \n",
       "3  0.10  0.17  0.48  0.08 -0.44 -0.44 -0.51  1.06  \n",
       "4  3.20  0.53  0.22  0.46 -2.43  0.18  2.96 -4.42  \n",
       "\n",
       "[5 rows x 23 columns]"
      ]
     },
     "execution_count": 82,
     "metadata": {},
     "output_type": "execute_result"
    }
   ],
   "source": [
    "pca=PCA(n_components=23)                                 # Initialize PCA with number of components\n",
    "principalComponents=pca.fit_transform(tdm_scaled)        # Fit with training data\n",
    "principalDf=pd.DataFrame(data=principalComponents)       # Create a dataframe\n",
    "principalDf.head()"
   ]
  },
  {
   "cell_type": "code",
   "execution_count": 83,
   "id": "7bf3ff65",
   "metadata": {},
   "outputs": [
    {
     "data": {
      "text/plain": [
       "array([0.07445064, 0.06389086, 0.05504755, 0.0457614 , 0.04101336,\n",
       "       0.03862569, 0.03708491, 0.03593419, 0.03282187, 0.03173509,\n",
       "       0.03130772, 0.03118258, 0.02961049, 0.02915454, 0.02898882,\n",
       "       0.02876742, 0.02819299, 0.02794006, 0.02768792, 0.02728425,\n",
       "       0.02692807, 0.02544978, 0.02435645])"
      ]
     },
     "execution_count": 83,
     "metadata": {},
     "output_type": "execute_result"
    }
   ],
   "source": [
    "pca.explained_variance_ratio_                 # Get percentage explained value for each principal component"
   ]
  },
  {
   "cell_type": "code",
   "execution_count": 87,
   "id": "68de9592",
   "metadata": {},
   "outputs": [
    {
     "data": {
      "text/plain": [
       "0.8232166375542591"
      ]
     },
     "execution_count": 87,
     "metadata": {},
     "output_type": "execute_result"
    }
   ],
   "source": [
    "pca.explained_variance_ratio_.sum()            # Total percentage explained by 23 principal components"
   ]
  },
  {
   "cell_type": "code",
   "execution_count": 86,
   "id": "777c2eed",
   "metadata": {},
   "outputs": [
    {
     "data": {
      "text/plain": [
       "Text(0, 0.5, 'Percentage Variance Explained')"
      ]
     },
     "execution_count": 86,
     "metadata": {},
     "output_type": "execute_result"
    },
    {
     "data": {
      "image/png": "[encoded data removed]",
      "text/plain": [
       "<Figure size 864x432 with 1 Axes>"
      ]
     },
     "metadata": {
      "needs_background": "light"
     },
     "output_type": "display_data"
    }
   ],
   "source": [
    "# Generate variance explained for multiple values of principal components and storing the values in an empty list\n",
    "perc_var_exp = []\n",
    "for n_component in range(1,36):\n",
    "    pca2=PCA(n_components = n_component) \n",
    "    principalComponents=pca2.fit_transform(tdm_scaled) \n",
    "    principalDf=pd.DataFrame(data=principalComponents) \n",
    "    perc_var_exp.append(pca2.explained_variance_ratio_.sum())\n",
    "    \n",
    "# converting the results into a dataframe and plotting them\n",
    "frame2 = pd.DataFrame({'Principal_Components':range(1,36), 'Percentage_Variance_Explained': perc_var_exp})\n",
    "plt.figure(figsize=(12,6))\n",
    "plt.plot(frame2['Principal_Components'], frame2['Percentage_Variance_Explained'], marker='o')\n",
    "plt.xlabel('Number of Principal Components')\n",
    "plt.ylabel('Percentage Variance Explained')"
   ]
  },
  {
   "cell_type": "markdown",
   "id": "60cb3c47",
   "metadata": {},
   "source": [
    "23 principal components are required to explain 82.32 % of variance in the dataset."
   ]
  },
  {
   "cell_type": "markdown",
   "id": "f8580bae",
   "metadata": {},
   "source": [
    "# Conclusion"
   ]
  },
  {
   "cell_type": "markdown",
   "id": "9ebf2f7e",
   "metadata": {},
   "source": [
    "The objective of the project was to predict whether a customer will subscribe to a term deposit. Since we want to make sure that we don't miss out on revenue from incorrectly classified people who will actually subscribe, hence we chose the evaluation metric as Recall for class 1. Using Stochaistic Gradient Descent, we got the maximum recall of 82% for class 1. \n",
    "\n",
    "Using feature importance, we note that duration and balance are the most important features which make the customer subscribe to a term deposit. That is, longer the last call with a potential subscriber and higher the balance, greater the chances for that person subscribing to a term deposit.\n",
    "\n",
    "Using K-means clustering, we see that there are 23 different groups of people in the dataset. Hence, it is difficult to analyze which groups of people are likely to subscribe to a term deposit.\n",
    "\n",
    "23 principal components are required to explain 82.32 % of variance in the dataset. That is, it is not possible to reduce the dimension significantly for this dataset."
   ]
  },
  {
   "cell_type": "code",
   "execution_count": null,
   "id": "a86b2456",
   "metadata": {},
   "outputs": [],
   "source": []
  }
 ],
 "metadata": {
  "kernelspec": {
   "display_name": "vtdm",
   "language": "python",
   "name": "vtdm"
  },
  "language_info": {
   "codemirror_mode": {
    "name": "ipython",
    "version": 3
   },
   "file_extension": ".py",
   "mimetype": "text/x-python",
   "name": "python",
   "nbconvert_exporter": "python",
   "pygments_lexer": "ipython3",
   "version": "3.8.10"
  }
 },
 "nbformat": 4,
 "nbformat_minor": 5
}
